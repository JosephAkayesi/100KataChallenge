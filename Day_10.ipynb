{
  "nbformat": 4,
  "nbformat_minor": 0,
  "metadata": {
    "colab": {
      "name": "#100KataChallenge Day 10.ipynb",
      "version": "0.3.2",
      "provenance": []
    },
    "kernelspec": {
      "display_name": "Python 3",
      "language": "python",
      "name": "python3"
    }
  },
  "cells": [
    {
      "metadata": {
        "id": "x3sRIonTTY-Z",
        "colab_type": "text"
      },
      "cell_type": "markdown",
      "source": [
        "## Import packages"
      ]
    },
    {
      "metadata": {
        "id": "XtDrl1bGTY-b",
        "colab_type": "code",
        "colab": {}
      },
      "cell_type": "code",
      "source": [
        "import pandas as pd\n",
        "import matplotlib.pyplot as plt\n",
        "import numpy as np\n",
        "from datetime import datetime"
      ],
      "execution_count": 0,
      "outputs": []
    },
    {
      "metadata": {
        "id": "riIbkd1mTY-f",
        "colab_type": "text"
      },
      "cell_type": "markdown",
      "source": [
        "## Import csv file and read head"
      ]
    },
    {
      "metadata": {
        "id": "6KDAmjp2TY-g",
        "colab_type": "code",
        "colab": {
          "base_uri": "https://localhost:8080/",
          "height": 644
        },
        "outputId": "f39ce0e9-6179-4173-d106-85deba0bf0b6"
      },
      "cell_type": "code",
      "source": [
        "df = pd.read_csv('https://raw.githubusercontent.com/KayO-GH/tmdb_movies/master/tmdb_movies_data.csv')\n",
        "df.head()"
      ],
      "execution_count": 5,
      "outputs": [
        {
          "output_type": "execute_result",
          "data": {
            "text/html": [
              "<div>\n",
              "<style scoped>\n",
              "    .dataframe tbody tr th:only-of-type {\n",
              "        vertical-align: middle;\n",
              "    }\n",
              "\n",
              "    .dataframe tbody tr th {\n",
              "        vertical-align: top;\n",
              "    }\n",
              "\n",
              "    .dataframe thead th {\n",
              "        text-align: right;\n",
              "    }\n",
              "</style>\n",
              "<table border=\"1\" class=\"dataframe\">\n",
              "  <thead>\n",
              "    <tr style=\"text-align: right;\">\n",
              "      <th></th>\n",
              "      <th>id</th>\n",
              "      <th>imdb_id</th>\n",
              "      <th>popularity</th>\n",
              "      <th>budget</th>\n",
              "      <th>revenue</th>\n",
              "      <th>original_title</th>\n",
              "      <th>cast</th>\n",
              "      <th>homepage</th>\n",
              "      <th>director</th>\n",
              "      <th>tagline</th>\n",
              "      <th>...</th>\n",
              "      <th>overview</th>\n",
              "      <th>runtime</th>\n",
              "      <th>genres</th>\n",
              "      <th>production_companies</th>\n",
              "      <th>release_date</th>\n",
              "      <th>vote_count</th>\n",
              "      <th>vote_average</th>\n",
              "      <th>release_year</th>\n",
              "      <th>budget_adj</th>\n",
              "      <th>revenue_adj</th>\n",
              "    </tr>\n",
              "  </thead>\n",
              "  <tbody>\n",
              "    <tr>\n",
              "      <th>0</th>\n",
              "      <td>135397</td>\n",
              "      <td>tt0369610</td>\n",
              "      <td>32.985763</td>\n",
              "      <td>150000000</td>\n",
              "      <td>1513528810</td>\n",
              "      <td>Jurassic World</td>\n",
              "      <td>Chris Pratt|Bryce Dallas Howard|Irrfan Khan|Vi...</td>\n",
              "      <td>http://www.jurassicworld.com/</td>\n",
              "      <td>Colin Trevorrow</td>\n",
              "      <td>The park is open.</td>\n",
              "      <td>...</td>\n",
              "      <td>Twenty-two years after the events of Jurassic ...</td>\n",
              "      <td>124</td>\n",
              "      <td>Action|Adventure|Science Fiction|Thriller</td>\n",
              "      <td>Universal Studios|Amblin Entertainment|Legenda...</td>\n",
              "      <td>6/9/2015</td>\n",
              "      <td>5562</td>\n",
              "      <td>6.5</td>\n",
              "      <td>2015</td>\n",
              "      <td>137999939.3</td>\n",
              "      <td>1.392446e+09</td>\n",
              "    </tr>\n",
              "    <tr>\n",
              "      <th>1</th>\n",
              "      <td>76341</td>\n",
              "      <td>tt1392190</td>\n",
              "      <td>28.419936</td>\n",
              "      <td>150000000</td>\n",
              "      <td>378436354</td>\n",
              "      <td>Mad Max: Fury Road</td>\n",
              "      <td>Tom Hardy|Charlize Theron|Hugh Keays-Byrne|Nic...</td>\n",
              "      <td>http://www.madmaxmovie.com/</td>\n",
              "      <td>George Miller</td>\n",
              "      <td>What a Lovely Day.</td>\n",
              "      <td>...</td>\n",
              "      <td>An apocalyptic story set in the furthest reach...</td>\n",
              "      <td>120</td>\n",
              "      <td>Action|Adventure|Science Fiction|Thriller</td>\n",
              "      <td>Village Roadshow Pictures|Kennedy Miller Produ...</td>\n",
              "      <td>5/13/2015</td>\n",
              "      <td>6185</td>\n",
              "      <td>7.1</td>\n",
              "      <td>2015</td>\n",
              "      <td>137999939.3</td>\n",
              "      <td>3.481613e+08</td>\n",
              "    </tr>\n",
              "    <tr>\n",
              "      <th>2</th>\n",
              "      <td>262500</td>\n",
              "      <td>tt2908446</td>\n",
              "      <td>13.112507</td>\n",
              "      <td>110000000</td>\n",
              "      <td>295238201</td>\n",
              "      <td>Insurgent</td>\n",
              "      <td>Shailene Woodley|Theo James|Kate Winslet|Ansel...</td>\n",
              "      <td>http://www.thedivergentseries.movie/#insurgent</td>\n",
              "      <td>Robert Schwentke</td>\n",
              "      <td>One Choice Can Destroy You</td>\n",
              "      <td>...</td>\n",
              "      <td>Beatrice Prior must confront her inner demons ...</td>\n",
              "      <td>119</td>\n",
              "      <td>Adventure|Science Fiction|Thriller</td>\n",
              "      <td>Summit Entertainment|Mandeville Films|Red Wago...</td>\n",
              "      <td>3/18/2015</td>\n",
              "      <td>2480</td>\n",
              "      <td>6.3</td>\n",
              "      <td>2015</td>\n",
              "      <td>101199955.5</td>\n",
              "      <td>2.716190e+08</td>\n",
              "    </tr>\n",
              "    <tr>\n",
              "      <th>3</th>\n",
              "      <td>140607</td>\n",
              "      <td>tt2488496</td>\n",
              "      <td>11.173104</td>\n",
              "      <td>200000000</td>\n",
              "      <td>2068178225</td>\n",
              "      <td>Star Wars: The Force Awakens</td>\n",
              "      <td>Harrison Ford|Mark Hamill|Carrie Fisher|Adam D...</td>\n",
              "      <td>http://www.starwars.com/films/star-wars-episod...</td>\n",
              "      <td>J.J. Abrams</td>\n",
              "      <td>Every generation has a story.</td>\n",
              "      <td>...</td>\n",
              "      <td>Thirty years after defeating the Galactic Empi...</td>\n",
              "      <td>136</td>\n",
              "      <td>Action|Adventure|Science Fiction|Fantasy</td>\n",
              "      <td>Lucasfilm|Truenorth Productions|Bad Robot</td>\n",
              "      <td>12/15/2015</td>\n",
              "      <td>5292</td>\n",
              "      <td>7.5</td>\n",
              "      <td>2015</td>\n",
              "      <td>183999919.0</td>\n",
              "      <td>1.902723e+09</td>\n",
              "    </tr>\n",
              "    <tr>\n",
              "      <th>4</th>\n",
              "      <td>168259</td>\n",
              "      <td>tt2820852</td>\n",
              "      <td>9.335014</td>\n",
              "      <td>190000000</td>\n",
              "      <td>1506249360</td>\n",
              "      <td>Furious 7</td>\n",
              "      <td>Vin Diesel|Paul Walker|Jason Statham|Michelle ...</td>\n",
              "      <td>http://www.furious7.com/</td>\n",
              "      <td>James Wan</td>\n",
              "      <td>Vengeance Hits Home</td>\n",
              "      <td>...</td>\n",
              "      <td>Deckard Shaw seeks revenge against Dominic Tor...</td>\n",
              "      <td>137</td>\n",
              "      <td>Action|Crime|Thriller</td>\n",
              "      <td>Universal Pictures|Original Film|Media Rights ...</td>\n",
              "      <td>4/1/2015</td>\n",
              "      <td>2947</td>\n",
              "      <td>7.3</td>\n",
              "      <td>2015</td>\n",
              "      <td>174799923.1</td>\n",
              "      <td>1.385749e+09</td>\n",
              "    </tr>\n",
              "  </tbody>\n",
              "</table>\n",
              "<p>5 rows × 21 columns</p>\n",
              "</div>"
            ],
            "text/plain": [
              "       id    imdb_id  popularity     budget     revenue  \\\n",
              "0  135397  tt0369610   32.985763  150000000  1513528810   \n",
              "1   76341  tt1392190   28.419936  150000000   378436354   \n",
              "2  262500  tt2908446   13.112507  110000000   295238201   \n",
              "3  140607  tt2488496   11.173104  200000000  2068178225   \n",
              "4  168259  tt2820852    9.335014  190000000  1506249360   \n",
              "\n",
              "                 original_title  \\\n",
              "0                Jurassic World   \n",
              "1            Mad Max: Fury Road   \n",
              "2                     Insurgent   \n",
              "3  Star Wars: The Force Awakens   \n",
              "4                     Furious 7   \n",
              "\n",
              "                                                cast  \\\n",
              "0  Chris Pratt|Bryce Dallas Howard|Irrfan Khan|Vi...   \n",
              "1  Tom Hardy|Charlize Theron|Hugh Keays-Byrne|Nic...   \n",
              "2  Shailene Woodley|Theo James|Kate Winslet|Ansel...   \n",
              "3  Harrison Ford|Mark Hamill|Carrie Fisher|Adam D...   \n",
              "4  Vin Diesel|Paul Walker|Jason Statham|Michelle ...   \n",
              "\n",
              "                                            homepage          director  \\\n",
              "0                      http://www.jurassicworld.com/   Colin Trevorrow   \n",
              "1                        http://www.madmaxmovie.com/     George Miller   \n",
              "2     http://www.thedivergentseries.movie/#insurgent  Robert Schwentke   \n",
              "3  http://www.starwars.com/films/star-wars-episod...       J.J. Abrams   \n",
              "4                           http://www.furious7.com/         James Wan   \n",
              "\n",
              "                         tagline      ...       \\\n",
              "0              The park is open.      ...        \n",
              "1             What a Lovely Day.      ...        \n",
              "2     One Choice Can Destroy You      ...        \n",
              "3  Every generation has a story.      ...        \n",
              "4            Vengeance Hits Home      ...        \n",
              "\n",
              "                                            overview runtime  \\\n",
              "0  Twenty-two years after the events of Jurassic ...     124   \n",
              "1  An apocalyptic story set in the furthest reach...     120   \n",
              "2  Beatrice Prior must confront her inner demons ...     119   \n",
              "3  Thirty years after defeating the Galactic Empi...     136   \n",
              "4  Deckard Shaw seeks revenge against Dominic Tor...     137   \n",
              "\n",
              "                                      genres  \\\n",
              "0  Action|Adventure|Science Fiction|Thriller   \n",
              "1  Action|Adventure|Science Fiction|Thriller   \n",
              "2         Adventure|Science Fiction|Thriller   \n",
              "3   Action|Adventure|Science Fiction|Fantasy   \n",
              "4                      Action|Crime|Thriller   \n",
              "\n",
              "                                production_companies release_date vote_count  \\\n",
              "0  Universal Studios|Amblin Entertainment|Legenda...     6/9/2015       5562   \n",
              "1  Village Roadshow Pictures|Kennedy Miller Produ...    5/13/2015       6185   \n",
              "2  Summit Entertainment|Mandeville Films|Red Wago...    3/18/2015       2480   \n",
              "3          Lucasfilm|Truenorth Productions|Bad Robot   12/15/2015       5292   \n",
              "4  Universal Pictures|Original Film|Media Rights ...     4/1/2015       2947   \n",
              "\n",
              "   vote_average  release_year   budget_adj   revenue_adj  \n",
              "0           6.5          2015  137999939.3  1.392446e+09  \n",
              "1           7.1          2015  137999939.3  3.481613e+08  \n",
              "2           6.3          2015  101199955.5  2.716190e+08  \n",
              "3           7.5          2015  183999919.0  1.902723e+09  \n",
              "4           7.3          2015  174799923.1  1.385749e+09  \n",
              "\n",
              "[5 rows x 21 columns]"
            ]
          },
          "metadata": {
            "tags": []
          },
          "execution_count": 5
        }
      ]
    },
    {
      "metadata": {
        "id": "SVMDRieqTY-l",
        "colab_type": "text"
      },
      "cell_type": "markdown",
      "source": [
        "## Metadata of csv file with data"
      ]
    },
    {
      "metadata": {
        "id": "dg8AhHkiTY-m",
        "colab_type": "code",
        "colab": {
          "base_uri": "https://localhost:8080/",
          "height": 119
        },
        "outputId": "f3557a43-5f3d-476b-ac73-9de28ab194b1"
      },
      "cell_type": "code",
      "source": [
        "df.columns"
      ],
      "execution_count": 6,
      "outputs": [
        {
          "output_type": "execute_result",
          "data": {
            "text/plain": [
              "Index(['id', 'imdb_id', 'popularity', 'budget', 'revenue', 'original_title',\n",
              "       'cast', 'homepage', 'director', 'tagline', 'keywords', 'overview',\n",
              "       'runtime', 'genres', 'production_companies', 'release_date',\n",
              "       'vote_count', 'vote_average', 'release_year', 'budget_adj',\n",
              "       'revenue_adj'],\n",
              "      dtype='object')"
            ]
          },
          "metadata": {
            "tags": []
          },
          "execution_count": 6
        }
      ]
    },
    {
      "metadata": {
        "id": "OFyrPYxUTY-q",
        "colab_type": "code",
        "colab": {
          "base_uri": "https://localhost:8080/",
          "height": 297
        },
        "outputId": "69994890-c6e8-450a-cea7-d92f29cda0ce"
      },
      "cell_type": "code",
      "source": [
        "df.describe()"
      ],
      "execution_count": 7,
      "outputs": [
        {
          "output_type": "execute_result",
          "data": {
            "text/html": [
              "<div>\n",
              "<style scoped>\n",
              "    .dataframe tbody tr th:only-of-type {\n",
              "        vertical-align: middle;\n",
              "    }\n",
              "\n",
              "    .dataframe tbody tr th {\n",
              "        vertical-align: top;\n",
              "    }\n",
              "\n",
              "    .dataframe thead th {\n",
              "        text-align: right;\n",
              "    }\n",
              "</style>\n",
              "<table border=\"1\" class=\"dataframe\">\n",
              "  <thead>\n",
              "    <tr style=\"text-align: right;\">\n",
              "      <th></th>\n",
              "      <th>id</th>\n",
              "      <th>popularity</th>\n",
              "      <th>budget</th>\n",
              "      <th>revenue</th>\n",
              "      <th>runtime</th>\n",
              "      <th>vote_count</th>\n",
              "      <th>vote_average</th>\n",
              "      <th>release_year</th>\n",
              "      <th>budget_adj</th>\n",
              "      <th>revenue_adj</th>\n",
              "    </tr>\n",
              "  </thead>\n",
              "  <tbody>\n",
              "    <tr>\n",
              "      <th>count</th>\n",
              "      <td>10866.000000</td>\n",
              "      <td>10866.000000</td>\n",
              "      <td>1.086600e+04</td>\n",
              "      <td>1.086600e+04</td>\n",
              "      <td>10866.000000</td>\n",
              "      <td>10866.000000</td>\n",
              "      <td>10866.000000</td>\n",
              "      <td>10866.000000</td>\n",
              "      <td>1.086600e+04</td>\n",
              "      <td>1.086600e+04</td>\n",
              "    </tr>\n",
              "    <tr>\n",
              "      <th>mean</th>\n",
              "      <td>66064.177434</td>\n",
              "      <td>0.646441</td>\n",
              "      <td>1.462570e+07</td>\n",
              "      <td>3.982332e+07</td>\n",
              "      <td>102.070863</td>\n",
              "      <td>217.389748</td>\n",
              "      <td>5.974922</td>\n",
              "      <td>2001.322658</td>\n",
              "      <td>1.755104e+07</td>\n",
              "      <td>5.136436e+07</td>\n",
              "    </tr>\n",
              "    <tr>\n",
              "      <th>std</th>\n",
              "      <td>92130.136561</td>\n",
              "      <td>1.000185</td>\n",
              "      <td>3.091321e+07</td>\n",
              "      <td>1.170035e+08</td>\n",
              "      <td>31.381405</td>\n",
              "      <td>575.619058</td>\n",
              "      <td>0.935142</td>\n",
              "      <td>12.812941</td>\n",
              "      <td>3.430616e+07</td>\n",
              "      <td>1.446325e+08</td>\n",
              "    </tr>\n",
              "    <tr>\n",
              "      <th>min</th>\n",
              "      <td>5.000000</td>\n",
              "      <td>0.000065</td>\n",
              "      <td>0.000000e+00</td>\n",
              "      <td>0.000000e+00</td>\n",
              "      <td>0.000000</td>\n",
              "      <td>10.000000</td>\n",
              "      <td>1.500000</td>\n",
              "      <td>1960.000000</td>\n",
              "      <td>0.000000e+00</td>\n",
              "      <td>0.000000e+00</td>\n",
              "    </tr>\n",
              "    <tr>\n",
              "      <th>25%</th>\n",
              "      <td>10596.250000</td>\n",
              "      <td>0.207583</td>\n",
              "      <td>0.000000e+00</td>\n",
              "      <td>0.000000e+00</td>\n",
              "      <td>90.000000</td>\n",
              "      <td>17.000000</td>\n",
              "      <td>5.400000</td>\n",
              "      <td>1995.000000</td>\n",
              "      <td>0.000000e+00</td>\n",
              "      <td>0.000000e+00</td>\n",
              "    </tr>\n",
              "    <tr>\n",
              "      <th>50%</th>\n",
              "      <td>20669.000000</td>\n",
              "      <td>0.383856</td>\n",
              "      <td>0.000000e+00</td>\n",
              "      <td>0.000000e+00</td>\n",
              "      <td>99.000000</td>\n",
              "      <td>38.000000</td>\n",
              "      <td>6.000000</td>\n",
              "      <td>2006.000000</td>\n",
              "      <td>0.000000e+00</td>\n",
              "      <td>0.000000e+00</td>\n",
              "    </tr>\n",
              "    <tr>\n",
              "      <th>75%</th>\n",
              "      <td>75610.000000</td>\n",
              "      <td>0.713817</td>\n",
              "      <td>1.500000e+07</td>\n",
              "      <td>2.400000e+07</td>\n",
              "      <td>111.000000</td>\n",
              "      <td>145.750000</td>\n",
              "      <td>6.600000</td>\n",
              "      <td>2011.000000</td>\n",
              "      <td>2.085325e+07</td>\n",
              "      <td>3.369710e+07</td>\n",
              "    </tr>\n",
              "    <tr>\n",
              "      <th>max</th>\n",
              "      <td>417859.000000</td>\n",
              "      <td>32.985763</td>\n",
              "      <td>4.250000e+08</td>\n",
              "      <td>2.781506e+09</td>\n",
              "      <td>900.000000</td>\n",
              "      <td>9767.000000</td>\n",
              "      <td>9.200000</td>\n",
              "      <td>2015.000000</td>\n",
              "      <td>4.250000e+08</td>\n",
              "      <td>2.827124e+09</td>\n",
              "    </tr>\n",
              "  </tbody>\n",
              "</table>\n",
              "</div>"
            ],
            "text/plain": [
              "                  id    popularity        budget       revenue       runtime  \\\n",
              "count   10866.000000  10866.000000  1.086600e+04  1.086600e+04  10866.000000   \n",
              "mean    66064.177434      0.646441  1.462570e+07  3.982332e+07    102.070863   \n",
              "std     92130.136561      1.000185  3.091321e+07  1.170035e+08     31.381405   \n",
              "min         5.000000      0.000065  0.000000e+00  0.000000e+00      0.000000   \n",
              "25%     10596.250000      0.207583  0.000000e+00  0.000000e+00     90.000000   \n",
              "50%     20669.000000      0.383856  0.000000e+00  0.000000e+00     99.000000   \n",
              "75%     75610.000000      0.713817  1.500000e+07  2.400000e+07    111.000000   \n",
              "max    417859.000000     32.985763  4.250000e+08  2.781506e+09    900.000000   \n",
              "\n",
              "         vote_count  vote_average  release_year    budget_adj   revenue_adj  \n",
              "count  10866.000000  10866.000000  10866.000000  1.086600e+04  1.086600e+04  \n",
              "mean     217.389748      5.974922   2001.322658  1.755104e+07  5.136436e+07  \n",
              "std      575.619058      0.935142     12.812941  3.430616e+07  1.446325e+08  \n",
              "min       10.000000      1.500000   1960.000000  0.000000e+00  0.000000e+00  \n",
              "25%       17.000000      5.400000   1995.000000  0.000000e+00  0.000000e+00  \n",
              "50%       38.000000      6.000000   2006.000000  0.000000e+00  0.000000e+00  \n",
              "75%      145.750000      6.600000   2011.000000  2.085325e+07  3.369710e+07  \n",
              "max     9767.000000      9.200000   2015.000000  4.250000e+08  2.827124e+09  "
            ]
          },
          "metadata": {
            "tags": []
          },
          "execution_count": 7
        }
      ]
    },
    {
      "metadata": {
        "id": "qqPjQywCTY-u",
        "colab_type": "text"
      },
      "cell_type": "markdown",
      "source": [
        "## Movie that earned the most profit\n"
      ]
    },
    {
      "metadata": {
        "id": "IWyGY393TY-v",
        "colab_type": "code",
        "colab": {
          "base_uri": "https://localhost:8080/",
          "height": 391
        },
        "outputId": "07035495-67ab-43b9-c87a-cc087e15879c"
      },
      "cell_type": "code",
      "source": [
        "df.loc[(df['revenue'] - df['budget']).idxmax()]"
      ],
      "execution_count": 8,
      "outputs": [
        {
          "output_type": "execute_result",
          "data": {
            "text/plain": [
              "id                                                                  19995\n",
              "imdb_id                                                         tt0499549\n",
              "popularity                                                        9.43277\n",
              "budget                                                          237000000\n",
              "revenue                                                        2781505847\n",
              "original_title                                                     Avatar\n",
              "cast                    Sam Worthington|Zoe Saldana|Sigourney Weaver|S...\n",
              "homepage                                      http://www.avatarmovie.com/\n",
              "director                                                    James Cameron\n",
              "tagline                                       Enter the World of Pandora.\n",
              "keywords                culture clash|future|space war|space colony|so...\n",
              "overview                In the 22nd century, a paraplegic Marine is di...\n",
              "runtime                                                               162\n",
              "genres                           Action|Adventure|Fantasy|Science Fiction\n",
              "production_companies    Ingenious Film Partners|Twentieth Century Fox ...\n",
              "release_date                                                   12/10/2009\n",
              "vote_count                                                           8458\n",
              "vote_average                                                          7.1\n",
              "release_year                                                         2009\n",
              "budget_adj                                                    2.40887e+08\n",
              "revenue_adj                                                   2.82712e+09\n",
              "Name: 1386, dtype: object"
            ]
          },
          "metadata": {
            "tags": []
          },
          "execution_count": 8
        }
      ]
    },
    {
      "metadata": {
        "id": "lV81UeAfTY-0",
        "colab_type": "text"
      },
      "cell_type": "markdown",
      "source": [
        "## Movie with the greatest budget"
      ]
    },
    {
      "metadata": {
        "id": "PWPcXqrkTY-2",
        "colab_type": "code",
        "colab": {
          "base_uri": "https://localhost:8080/",
          "height": 391
        },
        "outputId": "639237f3-96a9-4fe9-dc84-a37da748bc6a"
      },
      "cell_type": "code",
      "source": [
        "df.loc[df['budget'].idxmax()]"
      ],
      "execution_count": 9,
      "outputs": [
        {
          "output_type": "execute_result",
          "data": {
            "text/plain": [
              "id                                                                  46528\n",
              "imdb_id                                                         tt1032751\n",
              "popularity                                                        0.25054\n",
              "budget                                                          425000000\n",
              "revenue                                                          11087569\n",
              "original_title                                          The Warrior's Way\n",
              "cast                    Kate Bosworth|Jang Dong-gun|Geoffrey Rush|Dann...\n",
              "homepage                           http://www.iamrogue.com/thewarriorsway\n",
              "director                                                       Sngmoo Lee\n",
              "tagline                                           Assassin. Hero. Legend.\n",
              "keywords                assassin|small town|revenge|deception|super speed\n",
              "overview                An Asian assassin (Dong-gun Jang) is forced to...\n",
              "runtime                                                               100\n",
              "genres                          Adventure|Fantasy|Action|Western|Thriller\n",
              "production_companies                             Boram Entertainment Inc.\n",
              "release_date                                                    12/2/2010\n",
              "vote_count                                                             74\n",
              "vote_average                                                          6.4\n",
              "release_year                                                         2010\n",
              "budget_adj                                                       4.25e+08\n",
              "revenue_adj                                                   1.10876e+07\n",
              "Name: 2244, dtype: object"
            ]
          },
          "metadata": {
            "tags": []
          },
          "execution_count": 9
        }
      ]
    },
    {
      "metadata": {
        "id": "b7UrwbM2TY-5",
        "colab_type": "text"
      },
      "cell_type": "markdown",
      "source": [
        "## Movie with the greatest revenue"
      ]
    },
    {
      "metadata": {
        "id": "Yr_5y_dOTY-6",
        "colab_type": "code",
        "colab": {
          "base_uri": "https://localhost:8080/",
          "height": 391
        },
        "outputId": "08192230-5ef2-4e74-8b66-47e469d29492"
      },
      "cell_type": "code",
      "source": [
        "df.iloc[df['revenue'].idxmax()]"
      ],
      "execution_count": 10,
      "outputs": [
        {
          "output_type": "execute_result",
          "data": {
            "text/plain": [
              "id                                                                  19995\n",
              "imdb_id                                                         tt0499549\n",
              "popularity                                                        9.43277\n",
              "budget                                                          237000000\n",
              "revenue                                                        2781505847\n",
              "original_title                                                     Avatar\n",
              "cast                    Sam Worthington|Zoe Saldana|Sigourney Weaver|S...\n",
              "homepage                                      http://www.avatarmovie.com/\n",
              "director                                                    James Cameron\n",
              "tagline                                       Enter the World of Pandora.\n",
              "keywords                culture clash|future|space war|space colony|so...\n",
              "overview                In the 22nd century, a paraplegic Marine is di...\n",
              "runtime                                                               162\n",
              "genres                           Action|Adventure|Fantasy|Science Fiction\n",
              "production_companies    Ingenious Film Partners|Twentieth Century Fox ...\n",
              "release_date                                                   12/10/2009\n",
              "vote_count                                                           8458\n",
              "vote_average                                                          7.1\n",
              "release_year                                                         2009\n",
              "budget_adj                                                    2.40887e+08\n",
              "revenue_adj                                                   2.82712e+09\n",
              "Name: 1386, dtype: object"
            ]
          },
          "metadata": {
            "tags": []
          },
          "execution_count": 10
        }
      ]
    },
    {
      "metadata": {
        "id": "ryIrFN92TY-_",
        "colab_type": "text"
      },
      "cell_type": "markdown",
      "source": [
        "## Month that released the highest number of movies in all of the years"
      ]
    },
    {
      "metadata": {
        "id": "062gG_hnTY_B",
        "colab_type": "code",
        "colab": {
          "base_uri": "https://localhost:8080/",
          "height": 51
        },
        "outputId": "43d7a78c-38ae-48ed-8e7a-2115f663d97b"
      },
      "cell_type": "code",
      "source": [
        "all_movie_months = []\n",
        "for i, row in df.iterrows():\n",
        "    date_str = row['release_date']\n",
        "    current_date = datetime.strptime(date_str, '%m/%d/%Y')\n",
        "    all_movie_months.append(current_date.month)\n",
        "\n",
        "\n",
        "months = pd.Series(all_movie_months)\n",
        "months.mode()"
      ],
      "execution_count": 11,
      "outputs": [
        {
          "output_type": "execute_result",
          "data": {
            "text/plain": [
              "0    9\n",
              "dtype: int64"
            ]
          },
          "metadata": {
            "tags": []
          },
          "execution_count": 11
        }
      ]
    },
    {
      "metadata": {
        "id": "oHxp-q1dTY_F",
        "colab_type": "text"
      },
      "cell_type": "markdown",
      "source": [
        "##### *** September released the most movies in all of the years"
      ]
    },
    {
      "metadata": {
        "id": "o9Ogv7vGTY_F",
        "colab_type": "text"
      },
      "cell_type": "markdown",
      "source": [
        "## Month that made the most profit in all of the years"
      ]
    },
    {
      "metadata": {
        "id": "7PdyYFvYTY_H",
        "colab_type": "code",
        "colab": {
          "base_uri": "https://localhost:8080/",
          "height": 68
        },
        "outputId": "b96ce706-607f-477c-90f5-81c31b07edde"
      },
      "cell_type": "code",
      "source": [
        "profit = []\n",
        "month = []\n",
        "for i, row in df.iterrows():\n",
        "    profit.append(row['revenue'] - row['budget'])\n",
        "    date_str = row['release_date']\n",
        "    current_date = datetime.strptime(date_str, '%m/%d/%Y')\n",
        "    current_date_month = current_date.month\n",
        "    month.append(current_date_month)\n",
        "\n",
        "mwp = {'month': month, 'profit': profit }\n",
        "mwp_df = pd.DataFrame(mwp)\n",
        "mwp_df.iloc[mwp_df['month'].idxmax()]"
      ],
      "execution_count": 12,
      "outputs": [
        {
          "output_type": "execute_result",
          "data": {
            "text/plain": [
              "month             12\n",
              "profit    1868178225\n",
              "Name: 3, dtype: int64"
            ]
          },
          "metadata": {
            "tags": []
          },
          "execution_count": 12
        }
      ]
    },
    {
      "metadata": {
        "id": "7_-ZQE1-TY_N",
        "colab_type": "text"
      },
      "cell_type": "markdown",
      "source": [
        "##### *** December made the most profit in all of the years"
      ]
    },
    {
      "metadata": {
        "id": "nV3tEYXqTY_N",
        "colab_type": "text"
      },
      "cell_type": "markdown",
      "source": [
        "# The 10 most popular movies"
      ]
    },
    {
      "metadata": {
        "id": "t77xBiC5TY_Q",
        "colab_type": "code",
        "colab": {
          "base_uri": "https://localhost:8080/",
          "height": 1139
        },
        "outputId": "020c97b6-ad5f-4377-d779-5c1fa813001d"
      },
      "cell_type": "code",
      "source": [
        "df.nlargest(10, 'popularity')"
      ],
      "execution_count": 13,
      "outputs": [
        {
          "output_type": "execute_result",
          "data": {
            "text/html": [
              "<div>\n",
              "<style scoped>\n",
              "    .dataframe tbody tr th:only-of-type {\n",
              "        vertical-align: middle;\n",
              "    }\n",
              "\n",
              "    .dataframe tbody tr th {\n",
              "        vertical-align: top;\n",
              "    }\n",
              "\n",
              "    .dataframe thead th {\n",
              "        text-align: right;\n",
              "    }\n",
              "</style>\n",
              "<table border=\"1\" class=\"dataframe\">\n",
              "  <thead>\n",
              "    <tr style=\"text-align: right;\">\n",
              "      <th></th>\n",
              "      <th>id</th>\n",
              "      <th>imdb_id</th>\n",
              "      <th>popularity</th>\n",
              "      <th>budget</th>\n",
              "      <th>revenue</th>\n",
              "      <th>original_title</th>\n",
              "      <th>cast</th>\n",
              "      <th>homepage</th>\n",
              "      <th>director</th>\n",
              "      <th>tagline</th>\n",
              "      <th>...</th>\n",
              "      <th>overview</th>\n",
              "      <th>runtime</th>\n",
              "      <th>genres</th>\n",
              "      <th>production_companies</th>\n",
              "      <th>release_date</th>\n",
              "      <th>vote_count</th>\n",
              "      <th>vote_average</th>\n",
              "      <th>release_year</th>\n",
              "      <th>budget_adj</th>\n",
              "      <th>revenue_adj</th>\n",
              "    </tr>\n",
              "  </thead>\n",
              "  <tbody>\n",
              "    <tr>\n",
              "      <th>0</th>\n",
              "      <td>135397</td>\n",
              "      <td>tt0369610</td>\n",
              "      <td>32.985763</td>\n",
              "      <td>150000000</td>\n",
              "      <td>1513528810</td>\n",
              "      <td>Jurassic World</td>\n",
              "      <td>Chris Pratt|Bryce Dallas Howard|Irrfan Khan|Vi...</td>\n",
              "      <td>http://www.jurassicworld.com/</td>\n",
              "      <td>Colin Trevorrow</td>\n",
              "      <td>The park is open.</td>\n",
              "      <td>...</td>\n",
              "      <td>Twenty-two years after the events of Jurassic ...</td>\n",
              "      <td>124</td>\n",
              "      <td>Action|Adventure|Science Fiction|Thriller</td>\n",
              "      <td>Universal Studios|Amblin Entertainment|Legenda...</td>\n",
              "      <td>6/9/2015</td>\n",
              "      <td>5562</td>\n",
              "      <td>6.5</td>\n",
              "      <td>2015</td>\n",
              "      <td>1.379999e+08</td>\n",
              "      <td>1.392446e+09</td>\n",
              "    </tr>\n",
              "    <tr>\n",
              "      <th>1</th>\n",
              "      <td>76341</td>\n",
              "      <td>tt1392190</td>\n",
              "      <td>28.419936</td>\n",
              "      <td>150000000</td>\n",
              "      <td>378436354</td>\n",
              "      <td>Mad Max: Fury Road</td>\n",
              "      <td>Tom Hardy|Charlize Theron|Hugh Keays-Byrne|Nic...</td>\n",
              "      <td>http://www.madmaxmovie.com/</td>\n",
              "      <td>George Miller</td>\n",
              "      <td>What a Lovely Day.</td>\n",
              "      <td>...</td>\n",
              "      <td>An apocalyptic story set in the furthest reach...</td>\n",
              "      <td>120</td>\n",
              "      <td>Action|Adventure|Science Fiction|Thriller</td>\n",
              "      <td>Village Roadshow Pictures|Kennedy Miller Produ...</td>\n",
              "      <td>5/13/2015</td>\n",
              "      <td>6185</td>\n",
              "      <td>7.1</td>\n",
              "      <td>2015</td>\n",
              "      <td>1.379999e+08</td>\n",
              "      <td>3.481613e+08</td>\n",
              "    </tr>\n",
              "    <tr>\n",
              "      <th>629</th>\n",
              "      <td>157336</td>\n",
              "      <td>tt0816692</td>\n",
              "      <td>24.949134</td>\n",
              "      <td>165000000</td>\n",
              "      <td>621752480</td>\n",
              "      <td>Interstellar</td>\n",
              "      <td>Matthew McConaughey|Jessica Chastain|Anne Hath...</td>\n",
              "      <td>http://www.interstellarmovie.net/</td>\n",
              "      <td>Christopher Nolan</td>\n",
              "      <td>Mankind was born on Earth. It was never meant ...</td>\n",
              "      <td>...</td>\n",
              "      <td>Interstellar chronicles the adventures of a gr...</td>\n",
              "      <td>169</td>\n",
              "      <td>Adventure|Drama|Science Fiction</td>\n",
              "      <td>Paramount Pictures|Legendary Pictures|Warner B...</td>\n",
              "      <td>11/5/2014</td>\n",
              "      <td>6498</td>\n",
              "      <td>8.0</td>\n",
              "      <td>2014</td>\n",
              "      <td>1.519800e+08</td>\n",
              "      <td>5.726906e+08</td>\n",
              "    </tr>\n",
              "    <tr>\n",
              "      <th>630</th>\n",
              "      <td>118340</td>\n",
              "      <td>tt2015381</td>\n",
              "      <td>14.311205</td>\n",
              "      <td>170000000</td>\n",
              "      <td>773312399</td>\n",
              "      <td>Guardians of the Galaxy</td>\n",
              "      <td>Chris Pratt|Zoe Saldana|Dave Bautista|Vin Dies...</td>\n",
              "      <td>http://marvel.com/guardians</td>\n",
              "      <td>James Gunn</td>\n",
              "      <td>All heroes start somewhere.</td>\n",
              "      <td>...</td>\n",
              "      <td>Light years from Earth, 26 years after being a...</td>\n",
              "      <td>121</td>\n",
              "      <td>Action|Science Fiction|Adventure</td>\n",
              "      <td>Marvel Studios|Moving Picture Company (MPC)|Bu...</td>\n",
              "      <td>7/30/2014</td>\n",
              "      <td>5612</td>\n",
              "      <td>7.9</td>\n",
              "      <td>2014</td>\n",
              "      <td>1.565855e+08</td>\n",
              "      <td>7.122911e+08</td>\n",
              "    </tr>\n",
              "    <tr>\n",
              "      <th>2</th>\n",
              "      <td>262500</td>\n",
              "      <td>tt2908446</td>\n",
              "      <td>13.112507</td>\n",
              "      <td>110000000</td>\n",
              "      <td>295238201</td>\n",
              "      <td>Insurgent</td>\n",
              "      <td>Shailene Woodley|Theo James|Kate Winslet|Ansel...</td>\n",
              "      <td>http://www.thedivergentseries.movie/#insurgent</td>\n",
              "      <td>Robert Schwentke</td>\n",
              "      <td>One Choice Can Destroy You</td>\n",
              "      <td>...</td>\n",
              "      <td>Beatrice Prior must confront her inner demons ...</td>\n",
              "      <td>119</td>\n",
              "      <td>Adventure|Science Fiction|Thriller</td>\n",
              "      <td>Summit Entertainment|Mandeville Films|Red Wago...</td>\n",
              "      <td>3/18/2015</td>\n",
              "      <td>2480</td>\n",
              "      <td>6.3</td>\n",
              "      <td>2015</td>\n",
              "      <td>1.012000e+08</td>\n",
              "      <td>2.716190e+08</td>\n",
              "    </tr>\n",
              "    <tr>\n",
              "      <th>631</th>\n",
              "      <td>100402</td>\n",
              "      <td>tt1843866</td>\n",
              "      <td>12.971027</td>\n",
              "      <td>170000000</td>\n",
              "      <td>714766572</td>\n",
              "      <td>Captain America: The Winter Soldier</td>\n",
              "      <td>Chris Evans|Scarlett Johansson|Sebastian Stan|...</td>\n",
              "      <td>http://www.captainamericathewintersoldiermovie...</td>\n",
              "      <td>Joe Russo|Anthony Russo</td>\n",
              "      <td>In heroes we trust.</td>\n",
              "      <td>...</td>\n",
              "      <td>After the cataclysmic events in New York with ...</td>\n",
              "      <td>136</td>\n",
              "      <td>Action|Adventure|Science Fiction</td>\n",
              "      <td>Marvel Studios</td>\n",
              "      <td>3/20/2014</td>\n",
              "      <td>3848</td>\n",
              "      <td>7.6</td>\n",
              "      <td>2014</td>\n",
              "      <td>1.565855e+08</td>\n",
              "      <td>6.583651e+08</td>\n",
              "    </tr>\n",
              "    <tr>\n",
              "      <th>1329</th>\n",
              "      <td>11</td>\n",
              "      <td>tt0076759</td>\n",
              "      <td>12.037933</td>\n",
              "      <td>11000000</td>\n",
              "      <td>775398007</td>\n",
              "      <td>Star Wars</td>\n",
              "      <td>Mark Hamill|Harrison Ford|Carrie Fisher|Peter ...</td>\n",
              "      <td>http://www.starwars.com/films/star-wars-episod...</td>\n",
              "      <td>George Lucas</td>\n",
              "      <td>A long time ago in a galaxy far, far away...</td>\n",
              "      <td>...</td>\n",
              "      <td>Princess Leia is captured and held hostage by ...</td>\n",
              "      <td>121</td>\n",
              "      <td>Adventure|Action|Science Fiction</td>\n",
              "      <td>Lucasfilm|Twentieth Century Fox Film Corporation</td>\n",
              "      <td>3/20/1977</td>\n",
              "      <td>4428</td>\n",
              "      <td>7.9</td>\n",
              "      <td>1977</td>\n",
              "      <td>3.957559e+07</td>\n",
              "      <td>2.789712e+09</td>\n",
              "    </tr>\n",
              "    <tr>\n",
              "      <th>632</th>\n",
              "      <td>245891</td>\n",
              "      <td>tt2911666</td>\n",
              "      <td>11.422751</td>\n",
              "      <td>20000000</td>\n",
              "      <td>78739897</td>\n",
              "      <td>John Wick</td>\n",
              "      <td>Keanu Reeves|Michael Nyqvist|Alfie Allen|Wille...</td>\n",
              "      <td>http://www.johnwickthemovie.com/</td>\n",
              "      <td>Chad Stahelski|David Leitch</td>\n",
              "      <td>Don't set him off.</td>\n",
              "      <td>...</td>\n",
              "      <td>After the sudden death of his beloved wife, Jo...</td>\n",
              "      <td>101</td>\n",
              "      <td>Action|Thriller</td>\n",
              "      <td>Thunder Road Pictures|Warner Bros.|87Eleven|De...</td>\n",
              "      <td>10/22/2014</td>\n",
              "      <td>2712</td>\n",
              "      <td>7.0</td>\n",
              "      <td>2014</td>\n",
              "      <td>1.842182e+07</td>\n",
              "      <td>7.252661e+07</td>\n",
              "    </tr>\n",
              "    <tr>\n",
              "      <th>3</th>\n",
              "      <td>140607</td>\n",
              "      <td>tt2488496</td>\n",
              "      <td>11.173104</td>\n",
              "      <td>200000000</td>\n",
              "      <td>2068178225</td>\n",
              "      <td>Star Wars: The Force Awakens</td>\n",
              "      <td>Harrison Ford|Mark Hamill|Carrie Fisher|Adam D...</td>\n",
              "      <td>http://www.starwars.com/films/star-wars-episod...</td>\n",
              "      <td>J.J. Abrams</td>\n",
              "      <td>Every generation has a story.</td>\n",
              "      <td>...</td>\n",
              "      <td>Thirty years after defeating the Galactic Empi...</td>\n",
              "      <td>136</td>\n",
              "      <td>Action|Adventure|Science Fiction|Fantasy</td>\n",
              "      <td>Lucasfilm|Truenorth Productions|Bad Robot</td>\n",
              "      <td>12/15/2015</td>\n",
              "      <td>5292</td>\n",
              "      <td>7.5</td>\n",
              "      <td>2015</td>\n",
              "      <td>1.839999e+08</td>\n",
              "      <td>1.902723e+09</td>\n",
              "    </tr>\n",
              "    <tr>\n",
              "      <th>633</th>\n",
              "      <td>131631</td>\n",
              "      <td>tt1951265</td>\n",
              "      <td>10.739009</td>\n",
              "      <td>125000000</td>\n",
              "      <td>752100229</td>\n",
              "      <td>The Hunger Games: Mockingjay - Part 1</td>\n",
              "      <td>Jennifer Lawrence|Josh Hutcherson|Liam Hemswor...</td>\n",
              "      <td>http://www.thehungergames.movie/</td>\n",
              "      <td>Francis Lawrence</td>\n",
              "      <td>Fire burns brighter in the darkness</td>\n",
              "      <td>...</td>\n",
              "      <td>Katniss Everdeen reluctantly becomes the symbo...</td>\n",
              "      <td>123</td>\n",
              "      <td>Science Fiction|Adventure|Thriller</td>\n",
              "      <td>Lionsgate|Color Force</td>\n",
              "      <td>11/18/2014</td>\n",
              "      <td>3590</td>\n",
              "      <td>6.6</td>\n",
              "      <td>2014</td>\n",
              "      <td>1.151364e+08</td>\n",
              "      <td>6.927528e+08</td>\n",
              "    </tr>\n",
              "  </tbody>\n",
              "</table>\n",
              "<p>10 rows × 21 columns</p>\n",
              "</div>"
            ],
            "text/plain": [
              "          id    imdb_id  popularity     budget     revenue  \\\n",
              "0     135397  tt0369610   32.985763  150000000  1513528810   \n",
              "1      76341  tt1392190   28.419936  150000000   378436354   \n",
              "629   157336  tt0816692   24.949134  165000000   621752480   \n",
              "630   118340  tt2015381   14.311205  170000000   773312399   \n",
              "2     262500  tt2908446   13.112507  110000000   295238201   \n",
              "631   100402  tt1843866   12.971027  170000000   714766572   \n",
              "1329      11  tt0076759   12.037933   11000000   775398007   \n",
              "632   245891  tt2911666   11.422751   20000000    78739897   \n",
              "3     140607  tt2488496   11.173104  200000000  2068178225   \n",
              "633   131631  tt1951265   10.739009  125000000   752100229   \n",
              "\n",
              "                             original_title  \\\n",
              "0                            Jurassic World   \n",
              "1                        Mad Max: Fury Road   \n",
              "629                            Interstellar   \n",
              "630                 Guardians of the Galaxy   \n",
              "2                                 Insurgent   \n",
              "631     Captain America: The Winter Soldier   \n",
              "1329                              Star Wars   \n",
              "632                               John Wick   \n",
              "3              Star Wars: The Force Awakens   \n",
              "633   The Hunger Games: Mockingjay - Part 1   \n",
              "\n",
              "                                                   cast  \\\n",
              "0     Chris Pratt|Bryce Dallas Howard|Irrfan Khan|Vi...   \n",
              "1     Tom Hardy|Charlize Theron|Hugh Keays-Byrne|Nic...   \n",
              "629   Matthew McConaughey|Jessica Chastain|Anne Hath...   \n",
              "630   Chris Pratt|Zoe Saldana|Dave Bautista|Vin Dies...   \n",
              "2     Shailene Woodley|Theo James|Kate Winslet|Ansel...   \n",
              "631   Chris Evans|Scarlett Johansson|Sebastian Stan|...   \n",
              "1329  Mark Hamill|Harrison Ford|Carrie Fisher|Peter ...   \n",
              "632   Keanu Reeves|Michael Nyqvist|Alfie Allen|Wille...   \n",
              "3     Harrison Ford|Mark Hamill|Carrie Fisher|Adam D...   \n",
              "633   Jennifer Lawrence|Josh Hutcherson|Liam Hemswor...   \n",
              "\n",
              "                                               homepage  \\\n",
              "0                         http://www.jurassicworld.com/   \n",
              "1                           http://www.madmaxmovie.com/   \n",
              "629                   http://www.interstellarmovie.net/   \n",
              "630                         http://marvel.com/guardians   \n",
              "2        http://www.thedivergentseries.movie/#insurgent   \n",
              "631   http://www.captainamericathewintersoldiermovie...   \n",
              "1329  http://www.starwars.com/films/star-wars-episod...   \n",
              "632                    http://www.johnwickthemovie.com/   \n",
              "3     http://www.starwars.com/films/star-wars-episod...   \n",
              "633                    http://www.thehungergames.movie/   \n",
              "\n",
              "                         director  \\\n",
              "0                 Colin Trevorrow   \n",
              "1                   George Miller   \n",
              "629             Christopher Nolan   \n",
              "630                    James Gunn   \n",
              "2                Robert Schwentke   \n",
              "631       Joe Russo|Anthony Russo   \n",
              "1329                 George Lucas   \n",
              "632   Chad Stahelski|David Leitch   \n",
              "3                     J.J. Abrams   \n",
              "633              Francis Lawrence   \n",
              "\n",
              "                                                tagline      ...       \\\n",
              "0                                     The park is open.      ...        \n",
              "1                                    What a Lovely Day.      ...        \n",
              "629   Mankind was born on Earth. It was never meant ...      ...        \n",
              "630                         All heroes start somewhere.      ...        \n",
              "2                            One Choice Can Destroy You      ...        \n",
              "631                                 In heroes we trust.      ...        \n",
              "1329       A long time ago in a galaxy far, far away...      ...        \n",
              "632                                  Don't set him off.      ...        \n",
              "3                         Every generation has a story.      ...        \n",
              "633                 Fire burns brighter in the darkness      ...        \n",
              "\n",
              "                                               overview runtime  \\\n",
              "0     Twenty-two years after the events of Jurassic ...     124   \n",
              "1     An apocalyptic story set in the furthest reach...     120   \n",
              "629   Interstellar chronicles the adventures of a gr...     169   \n",
              "630   Light years from Earth, 26 years after being a...     121   \n",
              "2     Beatrice Prior must confront her inner demons ...     119   \n",
              "631   After the cataclysmic events in New York with ...     136   \n",
              "1329  Princess Leia is captured and held hostage by ...     121   \n",
              "632   After the sudden death of his beloved wife, Jo...     101   \n",
              "3     Thirty years after defeating the Galactic Empi...     136   \n",
              "633   Katniss Everdeen reluctantly becomes the symbo...     123   \n",
              "\n",
              "                                         genres  \\\n",
              "0     Action|Adventure|Science Fiction|Thriller   \n",
              "1     Action|Adventure|Science Fiction|Thriller   \n",
              "629             Adventure|Drama|Science Fiction   \n",
              "630            Action|Science Fiction|Adventure   \n",
              "2            Adventure|Science Fiction|Thriller   \n",
              "631            Action|Adventure|Science Fiction   \n",
              "1329           Adventure|Action|Science Fiction   \n",
              "632                             Action|Thriller   \n",
              "3      Action|Adventure|Science Fiction|Fantasy   \n",
              "633          Science Fiction|Adventure|Thriller   \n",
              "\n",
              "                                   production_companies release_date  \\\n",
              "0     Universal Studios|Amblin Entertainment|Legenda...     6/9/2015   \n",
              "1     Village Roadshow Pictures|Kennedy Miller Produ...    5/13/2015   \n",
              "629   Paramount Pictures|Legendary Pictures|Warner B...    11/5/2014   \n",
              "630   Marvel Studios|Moving Picture Company (MPC)|Bu...    7/30/2014   \n",
              "2     Summit Entertainment|Mandeville Films|Red Wago...    3/18/2015   \n",
              "631                                      Marvel Studios    3/20/2014   \n",
              "1329   Lucasfilm|Twentieth Century Fox Film Corporation    3/20/1977   \n",
              "632   Thunder Road Pictures|Warner Bros.|87Eleven|De...   10/22/2014   \n",
              "3             Lucasfilm|Truenorth Productions|Bad Robot   12/15/2015   \n",
              "633                               Lionsgate|Color Force   11/18/2014   \n",
              "\n",
              "     vote_count  vote_average  release_year    budget_adj   revenue_adj  \n",
              "0          5562           6.5          2015  1.379999e+08  1.392446e+09  \n",
              "1          6185           7.1          2015  1.379999e+08  3.481613e+08  \n",
              "629        6498           8.0          2014  1.519800e+08  5.726906e+08  \n",
              "630        5612           7.9          2014  1.565855e+08  7.122911e+08  \n",
              "2          2480           6.3          2015  1.012000e+08  2.716190e+08  \n",
              "631        3848           7.6          2014  1.565855e+08  6.583651e+08  \n",
              "1329       4428           7.9          1977  3.957559e+07  2.789712e+09  \n",
              "632        2712           7.0          2014  1.842182e+07  7.252661e+07  \n",
              "3          5292           7.5          2015  1.839999e+08  1.902723e+09  \n",
              "633        3590           6.6          2014  1.151364e+08  6.927528e+08  \n",
              "\n",
              "[10 rows x 21 columns]"
            ]
          },
          "metadata": {
            "tags": []
          },
          "execution_count": 13
        }
      ]
    },
    {
      "metadata": {
        "id": "OGL6sjogTY_W",
        "colab_type": "text"
      },
      "cell_type": "markdown",
      "source": [
        "## For the 10 most popular movies:"
      ]
    },
    {
      "metadata": {
        "id": "7oe3g9RZTY_Y",
        "colab_type": "text"
      },
      "cell_type": "markdown",
      "source": [
        "### Average duration"
      ]
    },
    {
      "metadata": {
        "id": "vkBSRl3WTY_Z",
        "colab_type": "code",
        "colab": {
          "base_uri": "https://localhost:8080/",
          "height": 34
        },
        "outputId": "226ee01e-c636-4f14-8cef-01edfab1ac6b"
      },
      "cell_type": "code",
      "source": [
        "df.nlargest(10, 'popularity')['runtime'].mean()"
      ],
      "execution_count": 14,
      "outputs": [
        {
          "output_type": "execute_result",
          "data": {
            "text/plain": [
              "127.0"
            ]
          },
          "metadata": {
            "tags": []
          },
          "execution_count": 14
        }
      ]
    },
    {
      "metadata": {
        "id": "hv3Hki4sTY_f",
        "colab_type": "text"
      },
      "cell_type": "markdown",
      "source": [
        "### Average budget"
      ]
    },
    {
      "metadata": {
        "id": "8J1wBfP_TY_h",
        "colab_type": "code",
        "colab": {
          "base_uri": "https://localhost:8080/",
          "height": 34
        },
        "outputId": "6b02172b-7f54-4ac5-9003-276833698ed4"
      },
      "cell_type": "code",
      "source": [
        "df.nlargest(10, 'popularity')['budget'].mean()"
      ],
      "execution_count": 15,
      "outputs": [
        {
          "output_type": "execute_result",
          "data": {
            "text/plain": [
              "127100000.0"
            ]
          },
          "metadata": {
            "tags": []
          },
          "execution_count": 15
        }
      ]
    },
    {
      "metadata": {
        "id": "UhZBp3RQTY_m",
        "colab_type": "text"
      },
      "cell_type": "markdown",
      "source": [
        "### Average revenue"
      ]
    },
    {
      "metadata": {
        "id": "4K0GnNCbTY_n",
        "colab_type": "code",
        "colab": {
          "base_uri": "https://localhost:8080/",
          "height": 34
        },
        "outputId": "af8885f0-622e-421f-a91a-18c94e886357"
      },
      "cell_type": "code",
      "source": [
        "df.nlargest(10, 'popularity')['revenue'].mean()"
      ],
      "execution_count": 16,
      "outputs": [
        {
          "output_type": "execute_result",
          "data": {
            "text/plain": [
              "797145117.4"
            ]
          },
          "metadata": {
            "tags": []
          },
          "execution_count": 16
        }
      ]
    },
    {
      "metadata": {
        "id": "SUQRzB0UTY_q",
        "colab_type": "text"
      },
      "cell_type": "markdown",
      "source": [
        "### Average profit"
      ]
    },
    {
      "metadata": {
        "id": "55XGzgXcTY_r",
        "colab_type": "code",
        "colab": {
          "base_uri": "https://localhost:8080/",
          "height": 34
        },
        "outputId": "0b732c28-9277-4638-8004-595f28933233"
      },
      "cell_type": "code",
      "source": [
        "most_popular_10_movies = df.nlargest(10, 'popularity')\n",
        "profit_of_most_popular_10_movies = []\n",
        "for i, row in most_popular_10_movies.iterrows():\n",
        "    profit_of_most_popular_10_movies.append(int(row['revenue']) - int(row['budget']))\n",
        "\n",
        "np.mean(profit_of_most_popular_10_movies)"
      ],
      "execution_count": 18,
      "outputs": [
        {
          "output_type": "execute_result",
          "data": {
            "text/plain": [
              "670045117.4"
            ]
          },
          "metadata": {
            "tags": []
          },
          "execution_count": 18
        }
      ]
    },
    {
      "metadata": {
        "id": "jTmJKXb9TY_w",
        "colab_type": "text"
      },
      "cell_type": "markdown",
      "source": [
        "# Data visualization"
      ]
    },
    {
      "metadata": {
        "id": "SvGm1OTcTY_w",
        "colab_type": "text"
      },
      "cell_type": "markdown",
      "source": [
        "## A graph of total profits made by all movies per year"
      ]
    },
    {
      "metadata": {
        "id": "kT4FQ1KVTY_y",
        "colab_type": "code",
        "colab": {
          "base_uri": "https://localhost:8080/",
          "height": 376
        },
        "outputId": "349b0b9f-e6d2-4e8d-ac88-cb8ba48d7c0e"
      },
      "cell_type": "code",
      "source": [
        "py = df.groupby(['release_year']).sum().reset_index()\n",
        "py['profits'] = py['revenue'] - py['budget']\n",
        "\n",
        "plt.plot(py['release_year'], py['profits'])\n",
        "plt.xlabel('Release Year of Movies')\n",
        "plt.ylabel('Total Profits made by Movies')\n",
        "plt.title('Calculating Profits made by movies in year released')\n",
        "plt.show()"
      ],
      "execution_count": 19,
      "outputs": [
        {
          "output_type": "display_data",
          "data": {
            "image/png": "[encoded data removed]",
            "text/plain": [
              "<matplotlib.figure.Figure at 0x7f7e7169c940>"
            ]
          },
          "metadata": {
            "tags": []
          }
        }
      ]
    },
    {
      "metadata": {
        "id": "fM8aInLETY_2",
        "colab_type": "text"
      },
      "cell_type": "markdown",
      "source": [
        "## A graph of vote_average over the years"
      ]
    },
    {
      "metadata": {
        "id": "bWFgccPmTY_3",
        "colab_type": "code",
        "colab": {
          "base_uri": "https://localhost:8080/",
          "height": 376
        },
        "outputId": "12c0e40c-6be9-4487-89e6-5cb9317b04d6"
      },
      "cell_type": "code",
      "source": [
        "plt.hist(df['vote_average'], bins=30)\n",
        "plt.xlabel('Vote Average')\n",
        "plt.ylabel('Num of Votes')\n",
        "plt.title('Distribution of Vote Average over the years')\n",
        "plt.show()"
      ],
      "execution_count": 20,
      "outputs": [
        {
          "output_type": "display_data",
          "data": {
            "image/png": "[encoded data removed]",
            "text/plain": [
              "<matplotlib.figure.Figure at 0x7f7e7144f550>"
            ]
          },
          "metadata": {
            "tags": []
          }
        }
      ]
    },
    {
      "metadata": {
        "id": "eYj0G_h4TY_7",
        "colab_type": "text"
      },
      "cell_type": "markdown",
      "source": [
        "## A graph to show correlation of budget and revenue"
      ]
    },
    {
      "metadata": {
        "id": "-lOKT72PTY_8",
        "colab_type": "code",
        "colab": {
          "base_uri": "https://localhost:8080/",
          "height": 372
        },
        "outputId": "0b1842d5-9a08-4070-ea41-2a00fb2083bb"
      },
      "cell_type": "code",
      "source": [
        "plt.scatter( df['budget'], df['revenue'])\n",
        "plt.xlabel('budget')\n",
        "plt.ylabel('revenue')\n",
        "plt.show()"
      ],
      "execution_count": 21,
      "outputs": [
        {
          "output_type": "display_data",
          "data": {
            "image/png": "[encoded data removed]",
            "text/plain": [
              "<matplotlib.figure.Figure at 0x7f7e7189e470>"
            ]
          },
          "metadata": {
            "tags": []
          }
        }
      ]
    },
    {
      "metadata": {
        "id": "WHq_IRZzTZAB",
        "colab_type": "text"
      },
      "cell_type": "markdown",
      "source": [
        "##### --- There is no correlation between budget and revenue "
      ]
    }
  ]
}
