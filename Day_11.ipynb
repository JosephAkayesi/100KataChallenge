{
  "nbformat": 4,
  "nbformat_minor": 0,
  "metadata": {
    "colab": {
      "name": "#100KataChallenge Day 11.ipynb",
      "version": "0.3.2",
      "provenance": [],
      "collapsed_sections": [],
      "include_colab_link": true
    },
    "kernelspec": {
      "name": "python3",
      "display_name": "Python 3"
    }
  },
  "cells": [
    {
      "cell_type": "markdown",
      "metadata": {
        "id": "view-in-github",
        "colab_type": "text"
      },
      "source": [
        "<a href=\"https://colab.research.google.com/github/JosephAkayesi/100KataChallenge/blob/master/Day_11.ipynb\" target=\"_parent\"><img src=\"https://colab.research.google.com/assets/colab-badge.svg\" alt=\"Open In Colab\"/></a>"
      ]
    },
    {
      "metadata": {
        "id": "FXEbf-Lc-vMC",
        "colab_type": "text"
      },
      "cell_type": "markdown",
      "source": [
        "## Import packages"
      ]
    },
    {
      "metadata": {
        "id": "CCWZszDS-uPO",
        "colab_type": "code",
        "colab": {}
      },
      "cell_type": "code",
      "source": [
        "import pandas as pd\n",
        "import numpy as np\n",
        "import matplotlib.pyplot as plt"
      ],
      "execution_count": 0,
      "outputs": []
    },
    {
      "metadata": {
        "id": "Xr2r8vg8_BHQ",
        "colab_type": "text"
      },
      "cell_type": "markdown",
      "source": [
        "## Import health-facilties-gh data file and read head\n"
      ]
    },
    {
      "metadata": {
        "id": "1lDXZjyx_DSw",
        "colab_type": "code",
        "colab": {
          "base_uri": "https://localhost:8080/",
          "height": 204
        },
        "outputId": "4c9d9083-8c6f-41a4-e2fe-e76942601315"
      },
      "cell_type": "code",
      "source": [
        "hf_df = pd.read_csv('https://raw.githubusercontent.com/ngunyimacharia/GhanaHealth/master/health-facilities-gh.csv') #health-facilities-gh\n",
        "hf_df.head()"
      ],
      "execution_count": 3,
      "outputs": [
        {
          "output_type": "execute_result",
          "data": {
            "text/html": [
              "<div>\n",
              "<style scoped>\n",
              "    .dataframe tbody tr th:only-of-type {\n",
              "        vertical-align: middle;\n",
              "    }\n",
              "\n",
              "    .dataframe tbody tr th {\n",
              "        vertical-align: top;\n",
              "    }\n",
              "\n",
              "    .dataframe thead th {\n",
              "        text-align: right;\n",
              "    }\n",
              "</style>\n",
              "<table border=\"1\" class=\"dataframe\">\n",
              "  <thead>\n",
              "    <tr style=\"text-align: right;\">\n",
              "      <th></th>\n",
              "      <th>Region</th>\n",
              "      <th>District</th>\n",
              "      <th>FacilityName</th>\n",
              "      <th>Type</th>\n",
              "      <th>Town</th>\n",
              "      <th>Ownership</th>\n",
              "      <th>Latitude</th>\n",
              "      <th>Longitude</th>\n",
              "    </tr>\n",
              "  </thead>\n",
              "  <tbody>\n",
              "    <tr>\n",
              "      <th>0</th>\n",
              "      <td>Ashanti</td>\n",
              "      <td>Offinso North</td>\n",
              "      <td>A.M.E Zion Clinic</td>\n",
              "      <td>Clinic</td>\n",
              "      <td>Afrancho</td>\n",
              "      <td>CHAG</td>\n",
              "      <td>7.40801</td>\n",
              "      <td>-1.96317</td>\n",
              "    </tr>\n",
              "    <tr>\n",
              "      <th>1</th>\n",
              "      <td>Ashanti</td>\n",
              "      <td>Bekwai Municipal</td>\n",
              "      <td>Abenkyiman Clinic</td>\n",
              "      <td>Clinic</td>\n",
              "      <td>Anwiankwanta</td>\n",
              "      <td>Private</td>\n",
              "      <td>6.46312</td>\n",
              "      <td>-1.58592</td>\n",
              "    </tr>\n",
              "    <tr>\n",
              "      <th>2</th>\n",
              "      <td>Ashanti</td>\n",
              "      <td>Adansi North</td>\n",
              "      <td>Aboabo Health Centre</td>\n",
              "      <td>Health Centre</td>\n",
              "      <td>Aboabo No 2</td>\n",
              "      <td>Government</td>\n",
              "      <td>6.22393</td>\n",
              "      <td>-1.34982</td>\n",
              "    </tr>\n",
              "    <tr>\n",
              "      <th>3</th>\n",
              "      <td>Ashanti</td>\n",
              "      <td>Afigya-Kwabre</td>\n",
              "      <td>Aboabogya Health Centre</td>\n",
              "      <td>Health Centre</td>\n",
              "      <td>Aboabogya</td>\n",
              "      <td>Government</td>\n",
              "      <td>6.84177</td>\n",
              "      <td>-1.61098</td>\n",
              "    </tr>\n",
              "    <tr>\n",
              "      <th>4</th>\n",
              "      <td>Ashanti</td>\n",
              "      <td>Kwabre</td>\n",
              "      <td>Aboaso Health Centre</td>\n",
              "      <td>Health Centre</td>\n",
              "      <td>Aboaso</td>\n",
              "      <td>Government</td>\n",
              "      <td>6.84177</td>\n",
              "      <td>-1.61098</td>\n",
              "    </tr>\n",
              "  </tbody>\n",
              "</table>\n",
              "</div>"
            ],
            "text/plain": [
              "    Region          District             FacilityName           Type  \\\n",
              "0  Ashanti     Offinso North        A.M.E Zion Clinic         Clinic   \n",
              "1  Ashanti  Bekwai Municipal        Abenkyiman Clinic         Clinic   \n",
              "2  Ashanti      Adansi North     Aboabo Health Centre  Health Centre   \n",
              "3  Ashanti     Afigya-Kwabre  Aboabogya Health Centre  Health Centre   \n",
              "4  Ashanti            Kwabre     Aboaso Health Centre  Health Centre   \n",
              "\n",
              "           Town   Ownership  Latitude  Longitude  \n",
              "0      Afrancho        CHAG   7.40801   -1.96317  \n",
              "1  Anwiankwanta     Private   6.46312   -1.58592  \n",
              "2   Aboabo No 2  Government   6.22393   -1.34982  \n",
              "3     Aboabogya  Government   6.84177   -1.61098  \n",
              "4        Aboaso  Government   6.84177   -1.61098  "
            ]
          },
          "metadata": {
            "tags": []
          },
          "execution_count": 3
        }
      ]
    },
    {
      "metadata": {
        "id": "bGck21pQ_JLE",
        "colab_type": "text"
      },
      "cell_type": "markdown",
      "source": [
        "## Metadata of data file"
      ]
    },
    {
      "metadata": {
        "id": "VvmI803L_Ll4",
        "colab_type": "code",
        "colab": {
          "base_uri": "https://localhost:8080/",
          "height": 238
        },
        "outputId": "09bb418d-bdcf-4dee-903c-8fffdacc8847"
      },
      "cell_type": "code",
      "source": [
        "hf_df.info()\n"
      ],
      "execution_count": 5,
      "outputs": [
        {
          "output_type": "stream",
          "text": [
            "<class 'pandas.core.frame.DataFrame'>\n",
            "RangeIndex: 3756 entries, 0 to 3755\n",
            "Data columns (total 8 columns):\n",
            "Region          3756 non-null object\n",
            "District        3756 non-null object\n",
            "FacilityName    3756 non-null object\n",
            "Type            3756 non-null object\n",
            "Town            3603 non-null object\n",
            "Ownership       3756 non-null object\n",
            "Latitude        3732 non-null float64\n",
            "Longitude       3732 non-null float64\n",
            "dtypes: float64(2), object(6)\n",
            "memory usage: 234.8+ KB\n"
          ],
          "name": "stdout"
        }
      ]
    },
    {
      "metadata": {
        "id": "H0HwCnfH_ToI",
        "colab_type": "code",
        "colab": {
          "base_uri": "https://localhost:8080/",
          "height": 68
        },
        "outputId": "e7c58226-8b9a-48b6-ac98-252ac7cfc42f"
      },
      "cell_type": "code",
      "source": [
        "hf_df.columns\n"
      ],
      "execution_count": 6,
      "outputs": [
        {
          "output_type": "execute_result",
          "data": {
            "text/plain": [
              "Index(['Region', 'District', 'FacilityName', 'Type', 'Town', 'Ownership',\n",
              "       'Latitude', 'Longitude'],\n",
              "      dtype='object')"
            ]
          },
          "metadata": {
            "tags": []
          },
          "execution_count": 6
        }
      ]
    },
    {
      "metadata": {
        "id": "Jrix9o4k_ZzV",
        "colab_type": "code",
        "colab": {
          "base_uri": "https://localhost:8080/",
          "height": 297
        },
        "outputId": "cd14bf88-4147-431d-f23a-40dfece20f14"
      },
      "cell_type": "code",
      "source": [
        "hf_df.describe()"
      ],
      "execution_count": 7,
      "outputs": [
        {
          "output_type": "execute_result",
          "data": {
            "text/html": [
              "<div>\n",
              "<style scoped>\n",
              "    .dataframe tbody tr th:only-of-type {\n",
              "        vertical-align: middle;\n",
              "    }\n",
              "\n",
              "    .dataframe tbody tr th {\n",
              "        vertical-align: top;\n",
              "    }\n",
              "\n",
              "    .dataframe thead th {\n",
              "        text-align: right;\n",
              "    }\n",
              "</style>\n",
              "<table border=\"1\" class=\"dataframe\">\n",
              "  <thead>\n",
              "    <tr style=\"text-align: right;\">\n",
              "      <th></th>\n",
              "      <th>Latitude</th>\n",
              "      <th>Longitude</th>\n",
              "    </tr>\n",
              "  </thead>\n",
              "  <tbody>\n",
              "    <tr>\n",
              "      <th>count</th>\n",
              "      <td>3732.000000</td>\n",
              "      <td>3732.000000</td>\n",
              "    </tr>\n",
              "    <tr>\n",
              "      <th>mean</th>\n",
              "      <td>6.955678</td>\n",
              "      <td>-1.074580</td>\n",
              "    </tr>\n",
              "    <tr>\n",
              "      <th>std</th>\n",
              "      <td>1.679332</td>\n",
              "      <td>1.021352</td>\n",
              "    </tr>\n",
              "    <tr>\n",
              "      <th>min</th>\n",
              "      <td>4.796180</td>\n",
              "      <td>-3.235880</td>\n",
              "    </tr>\n",
              "    <tr>\n",
              "      <th>25%</th>\n",
              "      <td>5.687642</td>\n",
              "      <td>-1.809792</td>\n",
              "    </tr>\n",
              "    <tr>\n",
              "      <th>50%</th>\n",
              "      <td>6.468705</td>\n",
              "      <td>-1.058117</td>\n",
              "    </tr>\n",
              "    <tr>\n",
              "      <th>75%</th>\n",
              "      <td>7.430555</td>\n",
              "      <td>-0.215870</td>\n",
              "    </tr>\n",
              "    <tr>\n",
              "      <th>max</th>\n",
              "      <td>11.146670</td>\n",
              "      <td>1.191440</td>\n",
              "    </tr>\n",
              "  </tbody>\n",
              "</table>\n",
              "</div>"
            ],
            "text/plain": [
              "          Latitude    Longitude\n",
              "count  3732.000000  3732.000000\n",
              "mean      6.955678    -1.074580\n",
              "std       1.679332     1.021352\n",
              "min       4.796180    -3.235880\n",
              "25%       5.687642    -1.809792\n",
              "50%       6.468705    -1.058117\n",
              "75%       7.430555    -0.215870\n",
              "max      11.146670     1.191440"
            ]
          },
          "metadata": {
            "tags": []
          },
          "execution_count": 7
        }
      ]
    },
    {
      "metadata": {
        "id": "TzuPGfPZ_hTZ",
        "colab_type": "text"
      },
      "cell_type": "markdown",
      "source": [
        "### Number of facilties in each region"
      ]
    },
    {
      "metadata": {
        "id": "SoG9CgcX_h8v",
        "colab_type": "code",
        "colab": {
          "base_uri": "https://localhost:8080/",
          "height": 390
        },
        "outputId": "8e1143cb-1d62-4bc4-a4ed-86ec617f37e4"
      },
      "cell_type": "code",
      "source": [
        "hf_df.groupby('Region').nunique()"
      ],
      "execution_count": 8,
      "outputs": [
        {
          "output_type": "execute_result",
          "data": {
            "text/html": [
              "<div>\n",
              "<style scoped>\n",
              "    .dataframe tbody tr th:only-of-type {\n",
              "        vertical-align: middle;\n",
              "    }\n",
              "\n",
              "    .dataframe tbody tr th {\n",
              "        vertical-align: top;\n",
              "    }\n",
              "\n",
              "    .dataframe thead th {\n",
              "        text-align: right;\n",
              "    }\n",
              "</style>\n",
              "<table border=\"1\" class=\"dataframe\">\n",
              "  <thead>\n",
              "    <tr style=\"text-align: right;\">\n",
              "      <th></th>\n",
              "      <th>Region</th>\n",
              "      <th>District</th>\n",
              "      <th>FacilityName</th>\n",
              "      <th>Type</th>\n",
              "      <th>Town</th>\n",
              "      <th>Ownership</th>\n",
              "      <th>Latitude</th>\n",
              "      <th>Longitude</th>\n",
              "    </tr>\n",
              "    <tr>\n",
              "      <th>Region</th>\n",
              "      <th></th>\n",
              "      <th></th>\n",
              "      <th></th>\n",
              "      <th></th>\n",
              "      <th></th>\n",
              "      <th></th>\n",
              "      <th></th>\n",
              "      <th></th>\n",
              "    </tr>\n",
              "  </thead>\n",
              "  <tbody>\n",
              "    <tr>\n",
              "      <th>Ashanti</th>\n",
              "      <td>1</td>\n",
              "      <td>27</td>\n",
              "      <td>640</td>\n",
              "      <td>14</td>\n",
              "      <td>427</td>\n",
              "      <td>5</td>\n",
              "      <td>512</td>\n",
              "      <td>510</td>\n",
              "    </tr>\n",
              "    <tr>\n",
              "      <th>Brong Ahafo</th>\n",
              "      <td>1</td>\n",
              "      <td>25</td>\n",
              "      <td>310</td>\n",
              "      <td>15</td>\n",
              "      <td>197</td>\n",
              "      <td>7</td>\n",
              "      <td>250</td>\n",
              "      <td>250</td>\n",
              "    </tr>\n",
              "    <tr>\n",
              "      <th>Central</th>\n",
              "      <td>1</td>\n",
              "      <td>17</td>\n",
              "      <td>297</td>\n",
              "      <td>17</td>\n",
              "      <td>218</td>\n",
              "      <td>4</td>\n",
              "      <td>194</td>\n",
              "      <td>194</td>\n",
              "    </tr>\n",
              "    <tr>\n",
              "      <th>Eastern</th>\n",
              "      <td>1</td>\n",
              "      <td>22</td>\n",
              "      <td>387</td>\n",
              "      <td>11</td>\n",
              "      <td>311</td>\n",
              "      <td>5</td>\n",
              "      <td>335</td>\n",
              "      <td>337</td>\n",
              "    </tr>\n",
              "    <tr>\n",
              "      <th>Greater Accra</th>\n",
              "      <td>1</td>\n",
              "      <td>7</td>\n",
              "      <td>484</td>\n",
              "      <td>14</td>\n",
              "      <td>234</td>\n",
              "      <td>6</td>\n",
              "      <td>419</td>\n",
              "      <td>419</td>\n",
              "    </tr>\n",
              "    <tr>\n",
              "      <th>Northern</th>\n",
              "      <td>1</td>\n",
              "      <td>18</td>\n",
              "      <td>260</td>\n",
              "      <td>15</td>\n",
              "      <td>217</td>\n",
              "      <td>4</td>\n",
              "      <td>210</td>\n",
              "      <td>216</td>\n",
              "    </tr>\n",
              "    <tr>\n",
              "      <th>Upper East</th>\n",
              "      <td>1</td>\n",
              "      <td>10</td>\n",
              "      <td>227</td>\n",
              "      <td>14</td>\n",
              "      <td>180</td>\n",
              "      <td>4</td>\n",
              "      <td>210</td>\n",
              "      <td>208</td>\n",
              "    </tr>\n",
              "    <tr>\n",
              "      <th>Upper West</th>\n",
              "      <td>1</td>\n",
              "      <td>10</td>\n",
              "      <td>160</td>\n",
              "      <td>12</td>\n",
              "      <td>134</td>\n",
              "      <td>4</td>\n",
              "      <td>122</td>\n",
              "      <td>123</td>\n",
              "    </tr>\n",
              "    <tr>\n",
              "      <th>Volta</th>\n",
              "      <td>1</td>\n",
              "      <td>15</td>\n",
              "      <td>394</td>\n",
              "      <td>13</td>\n",
              "      <td>293</td>\n",
              "      <td>5</td>\n",
              "      <td>295</td>\n",
              "      <td>295</td>\n",
              "    </tr>\n",
              "    <tr>\n",
              "      <th>Western</th>\n",
              "      <td>1</td>\n",
              "      <td>20</td>\n",
              "      <td>472</td>\n",
              "      <td>12</td>\n",
              "      <td>312</td>\n",
              "      <td>6</td>\n",
              "      <td>305</td>\n",
              "      <td>301</td>\n",
              "    </tr>\n",
              "  </tbody>\n",
              "</table>\n",
              "</div>"
            ],
            "text/plain": [
              "               Region  District  FacilityName  Type  Town  Ownership  \\\n",
              "Region                                                                 \n",
              "Ashanti             1        27           640    14   427          5   \n",
              "Brong Ahafo         1        25           310    15   197          7   \n",
              "Central             1        17           297    17   218          4   \n",
              "Eastern             1        22           387    11   311          5   \n",
              "Greater Accra       1         7           484    14   234          6   \n",
              "Northern            1        18           260    15   217          4   \n",
              "Upper East          1        10           227    14   180          4   \n",
              "Upper West          1        10           160    12   134          4   \n",
              "Volta               1        15           394    13   293          5   \n",
              "Western             1        20           472    12   312          6   \n",
              "\n",
              "               Latitude  Longitude  \n",
              "Region                              \n",
              "Ashanti             512        510  \n",
              "Brong Ahafo         250        250  \n",
              "Central             194        194  \n",
              "Eastern             335        337  \n",
              "Greater Accra       419        419  \n",
              "Northern            210        216  \n",
              "Upper East          210        208  \n",
              "Upper West          122        123  \n",
              "Volta               295        295  \n",
              "Western             305        301  "
            ]
          },
          "metadata": {
            "tags": []
          },
          "execution_count": 8
        }
      ]
    },
    {
      "metadata": {
        "id": "QHpXzuWD_sqL",
        "colab_type": "text"
      },
      "cell_type": "markdown",
      "source": [
        "##### --- There are fewer facilties in Northern region as opposed to the number of facilities in other regions despite the Northern region having a larger geographical area compared to regions with smaller geographical areas"
      ]
    },
    {
      "metadata": {
        "id": "kcH7JszJ_zoG",
        "colab_type": "text"
      },
      "cell_type": "markdown",
      "source": [
        "## Import health-facilty-tiers data file and read head"
      ]
    },
    {
      "metadata": {
        "id": "9KMgU6fx_1uT",
        "colab_type": "code",
        "colab": {
          "base_uri": "https://localhost:8080/",
          "height": 204
        },
        "outputId": "9200cd7e-5230-4dd7-86fd-1c9ea67de167"
      },
      "cell_type": "code",
      "source": [
        "hft_df = pd.read_csv('https://raw.githubusercontent.com/ngunyimacharia/GhanaHealth/master/health-facility-tiers.csv')\n",
        "hft_df.head()"
      ],
      "execution_count": 9,
      "outputs": [
        {
          "output_type": "execute_result",
          "data": {
            "text/html": [
              "<div>\n",
              "<style scoped>\n",
              "    .dataframe tbody tr th:only-of-type {\n",
              "        vertical-align: middle;\n",
              "    }\n",
              "\n",
              "    .dataframe tbody tr th {\n",
              "        vertical-align: top;\n",
              "    }\n",
              "\n",
              "    .dataframe thead th {\n",
              "        text-align: right;\n",
              "    }\n",
              "</style>\n",
              "<table border=\"1\" class=\"dataframe\">\n",
              "  <thead>\n",
              "    <tr style=\"text-align: right;\">\n",
              "      <th></th>\n",
              "      <th>Region</th>\n",
              "      <th>Facility</th>\n",
              "      <th>Tier</th>\n",
              "    </tr>\n",
              "  </thead>\n",
              "  <tbody>\n",
              "    <tr>\n",
              "      <th>0</th>\n",
              "      <td>Ashanti</td>\n",
              "      <td>PEACE AND LOVE HOSPITAL</td>\n",
              "      <td>2</td>\n",
              "    </tr>\n",
              "    <tr>\n",
              "      <th>1</th>\n",
              "      <td>Ashanti</td>\n",
              "      <td>TODAH HOSPITAL</td>\n",
              "      <td>2</td>\n",
              "    </tr>\n",
              "    <tr>\n",
              "      <th>2</th>\n",
              "      <td>Ashanti</td>\n",
              "      <td>ASOKWA CHILREN'S HOSPITAL</td>\n",
              "      <td>2</td>\n",
              "    </tr>\n",
              "    <tr>\n",
              "      <th>3</th>\n",
              "      <td>Ashanti</td>\n",
              "      <td>FANKYEBEBRA HOSPITAL</td>\n",
              "      <td>2</td>\n",
              "    </tr>\n",
              "    <tr>\n",
              "      <th>4</th>\n",
              "      <td>Ashanti</td>\n",
              "      <td>MICHMIT HOSPITAL</td>\n",
              "      <td>2</td>\n",
              "    </tr>\n",
              "  </tbody>\n",
              "</table>\n",
              "</div>"
            ],
            "text/plain": [
              "    Region                   Facility  Tier\n",
              "0  Ashanti    PEACE AND LOVE HOSPITAL     2\n",
              "1  Ashanti             TODAH HOSPITAL     2\n",
              "2  Ashanti  ASOKWA CHILREN'S HOSPITAL     2\n",
              "3  Ashanti       FANKYEBEBRA HOSPITAL     2\n",
              "4  Ashanti           MICHMIT HOSPITAL     2"
            ]
          },
          "metadata": {
            "tags": []
          },
          "execution_count": 9
        }
      ]
    },
    {
      "metadata": {
        "id": "NMUwIbM9_9jR",
        "colab_type": "text"
      },
      "cell_type": "markdown",
      "source": [
        "## Read metadata of data file\n"
      ]
    },
    {
      "metadata": {
        "id": "lnN1cRHG_-Fm",
        "colab_type": "code",
        "colab": {
          "base_uri": "https://localhost:8080/",
          "height": 153
        },
        "outputId": "46cc2cce-1a8b-4617-9644-43fac50d9bf9"
      },
      "cell_type": "code",
      "source": [
        "hft_df.info()"
      ],
      "execution_count": 10,
      "outputs": [
        {
          "output_type": "stream",
          "text": [
            "<class 'pandas.core.frame.DataFrame'>\n",
            "RangeIndex: 1475 entries, 0 to 1474\n",
            "Data columns (total 3 columns):\n",
            "Region      1475 non-null object\n",
            "Facility    1475 non-null object\n",
            "Tier        1475 non-null int64\n",
            "dtypes: int64(1), object(2)\n",
            "memory usage: 34.6+ KB\n"
          ],
          "name": "stdout"
        }
      ]
    },
    {
      "metadata": {
        "id": "Mb0c3PaNAAou",
        "colab_type": "code",
        "colab": {
          "base_uri": "https://localhost:8080/",
          "height": 34
        },
        "outputId": "4774a546-c313-425b-bb8f-26542d183902"
      },
      "cell_type": "code",
      "source": [
        "hft_df.columns"
      ],
      "execution_count": 12,
      "outputs": [
        {
          "output_type": "execute_result",
          "data": {
            "text/plain": [
              "Index(['Region', 'Facility', 'Tier'], dtype='object')"
            ]
          },
          "metadata": {
            "tags": []
          },
          "execution_count": 12
        }
      ]
    },
    {
      "metadata": {
        "id": "g9FAx6PeACkv",
        "colab_type": "code",
        "colab": {
          "base_uri": "https://localhost:8080/",
          "height": 297
        },
        "outputId": "9d85e64f-1239-4fea-db69-6d6742ff8a5d"
      },
      "cell_type": "code",
      "source": [
        "hft_df.describe()"
      ],
      "execution_count": 13,
      "outputs": [
        {
          "output_type": "execute_result",
          "data": {
            "text/html": [
              "<div>\n",
              "<style scoped>\n",
              "    .dataframe tbody tr th:only-of-type {\n",
              "        vertical-align: middle;\n",
              "    }\n",
              "\n",
              "    .dataframe tbody tr th {\n",
              "        vertical-align: top;\n",
              "    }\n",
              "\n",
              "    .dataframe thead th {\n",
              "        text-align: right;\n",
              "    }\n",
              "</style>\n",
              "<table border=\"1\" class=\"dataframe\">\n",
              "  <thead>\n",
              "    <tr style=\"text-align: right;\">\n",
              "      <th></th>\n",
              "      <th>Tier</th>\n",
              "    </tr>\n",
              "  </thead>\n",
              "  <tbody>\n",
              "    <tr>\n",
              "      <th>count</th>\n",
              "      <td>1475.000000</td>\n",
              "    </tr>\n",
              "    <tr>\n",
              "      <th>mean</th>\n",
              "      <td>2.818305</td>\n",
              "    </tr>\n",
              "    <tr>\n",
              "      <th>std</th>\n",
              "      <td>0.385724</td>\n",
              "    </tr>\n",
              "    <tr>\n",
              "      <th>min</th>\n",
              "      <td>2.000000</td>\n",
              "    </tr>\n",
              "    <tr>\n",
              "      <th>25%</th>\n",
              "      <td>3.000000</td>\n",
              "    </tr>\n",
              "    <tr>\n",
              "      <th>50%</th>\n",
              "      <td>3.000000</td>\n",
              "    </tr>\n",
              "    <tr>\n",
              "      <th>75%</th>\n",
              "      <td>3.000000</td>\n",
              "    </tr>\n",
              "    <tr>\n",
              "      <th>max</th>\n",
              "      <td>3.000000</td>\n",
              "    </tr>\n",
              "  </tbody>\n",
              "</table>\n",
              "</div>"
            ],
            "text/plain": [
              "              Tier\n",
              "count  1475.000000\n",
              "mean      2.818305\n",
              "std       0.385724\n",
              "min       2.000000\n",
              "25%       3.000000\n",
              "50%       3.000000\n",
              "75%       3.000000\n",
              "max       3.000000"
            ]
          },
          "metadata": {
            "tags": []
          },
          "execution_count": 13
        }
      ]
    },
    {
      "metadata": {
        "id": "FqGAvZuHAQO0",
        "colab_type": "text"
      },
      "cell_type": "markdown",
      "source": [
        "## Number of tier facilities in each region"
      ]
    },
    {
      "metadata": {
        "id": "WKia6kkYAKL7",
        "colab_type": "code",
        "colab": {
          "base_uri": "https://localhost:8080/",
          "height": 390
        },
        "outputId": "f0deacc2-4b39-49ca-9c50-c70fbe8242b7"
      },
      "cell_type": "code",
      "source": [
        "hf_df.groupby('Region').nunique()"
      ],
      "execution_count": 14,
      "outputs": [
        {
          "output_type": "execute_result",
          "data": {
            "text/html": [
              "<div>\n",
              "<style scoped>\n",
              "    .dataframe tbody tr th:only-of-type {\n",
              "        vertical-align: middle;\n",
              "    }\n",
              "\n",
              "    .dataframe tbody tr th {\n",
              "        vertical-align: top;\n",
              "    }\n",
              "\n",
              "    .dataframe thead th {\n",
              "        text-align: right;\n",
              "    }\n",
              "</style>\n",
              "<table border=\"1\" class=\"dataframe\">\n",
              "  <thead>\n",
              "    <tr style=\"text-align: right;\">\n",
              "      <th></th>\n",
              "      <th>Region</th>\n",
              "      <th>District</th>\n",
              "      <th>FacilityName</th>\n",
              "      <th>Type</th>\n",
              "      <th>Town</th>\n",
              "      <th>Ownership</th>\n",
              "      <th>Latitude</th>\n",
              "      <th>Longitude</th>\n",
              "    </tr>\n",
              "    <tr>\n",
              "      <th>Region</th>\n",
              "      <th></th>\n",
              "      <th></th>\n",
              "      <th></th>\n",
              "      <th></th>\n",
              "      <th></th>\n",
              "      <th></th>\n",
              "      <th></th>\n",
              "      <th></th>\n",
              "    </tr>\n",
              "  </thead>\n",
              "  <tbody>\n",
              "    <tr>\n",
              "      <th>Ashanti</th>\n",
              "      <td>1</td>\n",
              "      <td>27</td>\n",
              "      <td>640</td>\n",
              "      <td>14</td>\n",
              "      <td>427</td>\n",
              "      <td>5</td>\n",
              "      <td>512</td>\n",
              "      <td>510</td>\n",
              "    </tr>\n",
              "    <tr>\n",
              "      <th>Brong Ahafo</th>\n",
              "      <td>1</td>\n",
              "      <td>25</td>\n",
              "      <td>310</td>\n",
              "      <td>15</td>\n",
              "      <td>197</td>\n",
              "      <td>7</td>\n",
              "      <td>250</td>\n",
              "      <td>250</td>\n",
              "    </tr>\n",
              "    <tr>\n",
              "      <th>Central</th>\n",
              "      <td>1</td>\n",
              "      <td>17</td>\n",
              "      <td>297</td>\n",
              "      <td>17</td>\n",
              "      <td>218</td>\n",
              "      <td>4</td>\n",
              "      <td>194</td>\n",
              "      <td>194</td>\n",
              "    </tr>\n",
              "    <tr>\n",
              "      <th>Eastern</th>\n",
              "      <td>1</td>\n",
              "      <td>22</td>\n",
              "      <td>387</td>\n",
              "      <td>11</td>\n",
              "      <td>311</td>\n",
              "      <td>5</td>\n",
              "      <td>335</td>\n",
              "      <td>337</td>\n",
              "    </tr>\n",
              "    <tr>\n",
              "      <th>Greater Accra</th>\n",
              "      <td>1</td>\n",
              "      <td>7</td>\n",
              "      <td>484</td>\n",
              "      <td>14</td>\n",
              "      <td>234</td>\n",
              "      <td>6</td>\n",
              "      <td>419</td>\n",
              "      <td>419</td>\n",
              "    </tr>\n",
              "    <tr>\n",
              "      <th>Northern</th>\n",
              "      <td>1</td>\n",
              "      <td>18</td>\n",
              "      <td>260</td>\n",
              "      <td>15</td>\n",
              "      <td>217</td>\n",
              "      <td>4</td>\n",
              "      <td>210</td>\n",
              "      <td>216</td>\n",
              "    </tr>\n",
              "    <tr>\n",
              "      <th>Upper East</th>\n",
              "      <td>1</td>\n",
              "      <td>10</td>\n",
              "      <td>227</td>\n",
              "      <td>14</td>\n",
              "      <td>180</td>\n",
              "      <td>4</td>\n",
              "      <td>210</td>\n",
              "      <td>208</td>\n",
              "    </tr>\n",
              "    <tr>\n",
              "      <th>Upper West</th>\n",
              "      <td>1</td>\n",
              "      <td>10</td>\n",
              "      <td>160</td>\n",
              "      <td>12</td>\n",
              "      <td>134</td>\n",
              "      <td>4</td>\n",
              "      <td>122</td>\n",
              "      <td>123</td>\n",
              "    </tr>\n",
              "    <tr>\n",
              "      <th>Volta</th>\n",
              "      <td>1</td>\n",
              "      <td>15</td>\n",
              "      <td>394</td>\n",
              "      <td>13</td>\n",
              "      <td>293</td>\n",
              "      <td>5</td>\n",
              "      <td>295</td>\n",
              "      <td>295</td>\n",
              "    </tr>\n",
              "    <tr>\n",
              "      <th>Western</th>\n",
              "      <td>1</td>\n",
              "      <td>20</td>\n",
              "      <td>472</td>\n",
              "      <td>12</td>\n",
              "      <td>312</td>\n",
              "      <td>6</td>\n",
              "      <td>305</td>\n",
              "      <td>301</td>\n",
              "    </tr>\n",
              "  </tbody>\n",
              "</table>\n",
              "</div>"
            ],
            "text/plain": [
              "               Region  District  FacilityName  Type  Town  Ownership  \\\n",
              "Region                                                                 \n",
              "Ashanti             1        27           640    14   427          5   \n",
              "Brong Ahafo         1        25           310    15   197          7   \n",
              "Central             1        17           297    17   218          4   \n",
              "Eastern             1        22           387    11   311          5   \n",
              "Greater Accra       1         7           484    14   234          6   \n",
              "Northern            1        18           260    15   217          4   \n",
              "Upper East          1        10           227    14   180          4   \n",
              "Upper West          1        10           160    12   134          4   \n",
              "Volta               1        15           394    13   293          5   \n",
              "Western             1        20           472    12   312          6   \n",
              "\n",
              "               Latitude  Longitude  \n",
              "Region                              \n",
              "Ashanti             512        510  \n",
              "Brong Ahafo         250        250  \n",
              "Central             194        194  \n",
              "Eastern             335        337  \n",
              "Greater Accra       419        419  \n",
              "Northern            210        216  \n",
              "Upper East          210        208  \n",
              "Upper West          122        123  \n",
              "Volta               295        295  \n",
              "Western             305        301  "
            ]
          },
          "metadata": {
            "tags": []
          },
          "execution_count": 14
        }
      ]
    },
    {
      "metadata": {
        "id": "YtDTzWDBd6Wi",
        "colab_type": "text"
      },
      "cell_type": "markdown",
      "source": [
        "### Population of each region as of 2010 according to wikipedia\n",
        "[List of Ghanaian regions by population](https://en.wikipedia.org/wiki/List_of_Ghanaian_regions_by_population)"
      ]
    },
    {
      "metadata": {
        "id": "QS82rSAHCq-3",
        "colab_type": "code",
        "colab": {
          "base_uri": "https://localhost:8080/",
          "height": 390
        },
        "outputId": "b1ae35fc-de43-4ece-cdba-25ec39608ec3"
      },
      "cell_type": "code",
      "source": [
        "pop_df = pd.DataFrame({\n",
        "    'Region': ['Ashanti', 'Brong Ahafo', 'Central', 'Eastern', 'Greater Accra', 'Northern', 'Upper East', 'Upper West', 'Volta', 'Western'],\n",
        "    'Population': [4780380, 2310983, 2201863, 2633154, 4010054, 2479461, 1046545, 702110, 2118252, 2376021],\n",
        "    'Size': rbo_df.groupby('Region')['Region'].count()\n",
        "})\n",
        "\n",
        "pop_df\n"
      ],
      "execution_count": 230,
      "outputs": [
        {
          "output_type": "execute_result",
          "data": {
            "text/html": [
              "<div>\n",
              "<style scoped>\n",
              "    .dataframe tbody tr th:only-of-type {\n",
              "        vertical-align: middle;\n",
              "    }\n",
              "\n",
              "    .dataframe tbody tr th {\n",
              "        vertical-align: top;\n",
              "    }\n",
              "\n",
              "    .dataframe thead th {\n",
              "        text-align: right;\n",
              "    }\n",
              "</style>\n",
              "<table border=\"1\" class=\"dataframe\">\n",
              "  <thead>\n",
              "    <tr style=\"text-align: right;\">\n",
              "      <th></th>\n",
              "      <th>Population</th>\n",
              "      <th>Region</th>\n",
              "      <th>Size</th>\n",
              "    </tr>\n",
              "    <tr>\n",
              "      <th>Region</th>\n",
              "      <th></th>\n",
              "      <th></th>\n",
              "      <th></th>\n",
              "    </tr>\n",
              "  </thead>\n",
              "  <tbody>\n",
              "    <tr>\n",
              "      <th>Ashanti</th>\n",
              "      <td>4780380</td>\n",
              "      <td>Ashanti</td>\n",
              "      <td>975</td>\n",
              "    </tr>\n",
              "    <tr>\n",
              "      <th>Brong Ahafo</th>\n",
              "      <td>2310983</td>\n",
              "      <td>Brong Ahafo</td>\n",
              "      <td>455</td>\n",
              "    </tr>\n",
              "    <tr>\n",
              "      <th>Central</th>\n",
              "      <td>2201863</td>\n",
              "      <td>Central</td>\n",
              "      <td>399</td>\n",
              "    </tr>\n",
              "    <tr>\n",
              "      <th>Eastern</th>\n",
              "      <td>2633154</td>\n",
              "      <td>Eastern</td>\n",
              "      <td>484</td>\n",
              "    </tr>\n",
              "    <tr>\n",
              "      <th>Greater Accra</th>\n",
              "      <td>4010054</td>\n",
              "      <td>Greater Accra</td>\n",
              "      <td>1037</td>\n",
              "    </tr>\n",
              "    <tr>\n",
              "      <th>Northern</th>\n",
              "      <td>2479461</td>\n",
              "      <td>Northern</td>\n",
              "      <td>311</td>\n",
              "    </tr>\n",
              "    <tr>\n",
              "      <th>Upper East</th>\n",
              "      <td>1046545</td>\n",
              "      <td>Upper East</td>\n",
              "      <td>272</td>\n",
              "    </tr>\n",
              "    <tr>\n",
              "      <th>Upper West</th>\n",
              "      <td>702110</td>\n",
              "      <td>Upper West</td>\n",
              "      <td>197</td>\n",
              "    </tr>\n",
              "    <tr>\n",
              "      <th>Volta</th>\n",
              "      <td>2118252</td>\n",
              "      <td>Volta</td>\n",
              "      <td>453</td>\n",
              "    </tr>\n",
              "    <tr>\n",
              "      <th>Western</th>\n",
              "      <td>2376021</td>\n",
              "      <td>Western</td>\n",
              "      <td>648</td>\n",
              "    </tr>\n",
              "  </tbody>\n",
              "</table>\n",
              "</div>"
            ],
            "text/plain": [
              "               Population         Region  Size\n",
              "Region                                        \n",
              "Ashanti           4780380        Ashanti   975\n",
              "Brong Ahafo       2310983    Brong Ahafo   455\n",
              "Central           2201863        Central   399\n",
              "Eastern           2633154        Eastern   484\n",
              "Greater Accra     4010054  Greater Accra  1037\n",
              "Northern          2479461       Northern   311\n",
              "Upper East        1046545     Upper East   272\n",
              "Upper West         702110     Upper West   197\n",
              "Volta             2118252          Volta   453\n",
              "Western           2376021        Western   648"
            ]
          },
          "metadata": {
            "tags": []
          },
          "execution_count": 230
        }
      ]
    },
    {
      "metadata": {
        "id": "SyjYkd_hATD-",
        "colab_type": "code",
        "colab": {
          "base_uri": "https://localhost:8080/",
          "height": 221
        },
        "outputId": "332eabcc-e6c7-4127-de28-e0d0ae39beed"
      },
      "cell_type": "code",
      "source": [
        "allRegions = []\n",
        "allOwnership = []\n",
        "\n",
        "for i, row in hf_df.iterrows():\n",
        "  allRegions.append(row.Region)\n",
        "  \n",
        "for i, row in hft_df.iterrows():\n",
        "  allRegions.append(row.Region)\n",
        "  \n",
        "rbo_df = {\n",
        "    'Region': allRegions,\n",
        "}\n",
        "\n",
        "rbo_df = pd.DataFrame(rbo_df['Region'])\n",
        "\n",
        "rbo_df.columns = ['Region']\n",
        "rbo_df.groupby('Region')['Region'].count()\n",
        "\n",
        "\n"
      ],
      "execution_count": 218,
      "outputs": [
        {
          "output_type": "execute_result",
          "data": {
            "text/plain": [
              "Region\n",
              "Ashanti           975\n",
              "Brong Ahafo       455\n",
              "Central           399\n",
              "Eastern           484\n",
              "Greater Accra    1037\n",
              "Northern          311\n",
              "Upper East        272\n",
              "Upper West        197\n",
              "Volta             453\n",
              "Western           648\n",
              "Name: Region, dtype: int64"
            ]
          },
          "metadata": {
            "tags": []
          },
          "execution_count": 218
        }
      ]
    },
    {
      "metadata": {
        "id": "BACHQUkENYcY",
        "colab_type": "code",
        "colab": {}
      },
      "cell_type": "code",
      "source": [
        ""
      ],
      "execution_count": 0,
      "outputs": []
    },
    {
      "metadata": {
        "id": "ExayrVFPcFH9",
        "colab_type": "text"
      },
      "cell_type": "markdown",
      "source": [
        "## Correlation of Population to Size(Number of Facilties)\n"
      ]
    },
    {
      "metadata": {
        "id": "E8psT79VcM8C",
        "colab_type": "code",
        "colab": {
          "base_uri": "https://localhost:8080/",
          "height": 376
        },
        "outputId": "d1ecd3aa-1709-478b-9fa5-0fa0ca82f2b7"
      },
      "cell_type": "code",
      "source": [
        "plt.scatter( pop_df['Population'], pop_df['Size'])\n",
        "plt.xlabel('Population')\n",
        "plt.ylabel('Size')\n",
        "plt.title(r'Correlation of Population to Size (Number Of Facilities)')\n",
        "plt.show()"
      ],
      "execution_count": 233,
      "outputs": [
        {
          "output_type": "display_data",
          "data": {
            "image/png": "[encoded data removed]",
            "text/plain": [
              "<matplotlib.figure.Figure at 0x7f1493db9978>"
            ]
          },
          "metadata": {
            "tags": []
          }
        }
      ]
    },
    {
      "metadata": {
        "id": "pmgDeRWWjX4h",
        "colab_type": "text"
      },
      "cell_type": "markdown",
      "source": [
        "#### --- _There is a good correlation between hospital facilities and population. The higher the population the greater the number of facilities and hence facilities are evenly and well distributed across the regions_"
      ]
    },
    {
      "metadata": {
        "id": "-tQwskungEY2",
        "colab_type": "text"
      },
      "cell_type": "markdown",
      "source": [
        "## Number oif facilites in each region based on ownership\n"
      ]
    },
    {
      "metadata": {
        "id": "cLY1zd_wgQjV",
        "colab_type": "code",
        "colab": {
          "base_uri": "https://localhost:8080/",
          "height": 390
        },
        "outputId": "237aab1c-aaf1-4040-b0bb-541ca03c7d0b"
      },
      "cell_type": "code",
      "source": [
        "pd.crosstab(hf_df.Region, hf_df.Ownership)\n"
      ],
      "execution_count": 244,
      "outputs": [
        {
          "output_type": "execute_result",
          "data": {
            "text/html": [
              "<div>\n",
              "<style scoped>\n",
              "    .dataframe tbody tr th:only-of-type {\n",
              "        vertical-align: middle;\n",
              "    }\n",
              "\n",
              "    .dataframe tbody tr th {\n",
              "        vertical-align: top;\n",
              "    }\n",
              "\n",
              "    .dataframe thead th {\n",
              "        text-align: right;\n",
              "    }\n",
              "</style>\n",
              "<table border=\"1\" class=\"dataframe\">\n",
              "  <thead>\n",
              "    <tr style=\"text-align: right;\">\n",
              "      <th>Ownership</th>\n",
              "      <th>CHAG</th>\n",
              "      <th>Clinic</th>\n",
              "      <th>Government</th>\n",
              "      <th>Islamic</th>\n",
              "      <th>Maternity Home</th>\n",
              "      <th>Mission</th>\n",
              "      <th>Muslim</th>\n",
              "      <th>NGO</th>\n",
              "      <th>Private</th>\n",
              "      <th>Quasi-Government</th>\n",
              "      <th>government</th>\n",
              "      <th>private</th>\n",
              "    </tr>\n",
              "    <tr>\n",
              "      <th>Region</th>\n",
              "      <th></th>\n",
              "      <th></th>\n",
              "      <th></th>\n",
              "      <th></th>\n",
              "      <th></th>\n",
              "      <th></th>\n",
              "      <th></th>\n",
              "      <th></th>\n",
              "      <th></th>\n",
              "      <th></th>\n",
              "      <th></th>\n",
              "      <th></th>\n",
              "    </tr>\n",
              "  </thead>\n",
              "  <tbody>\n",
              "    <tr>\n",
              "      <th>Ashanti</th>\n",
              "      <td>71</td>\n",
              "      <td>0</td>\n",
              "      <td>215</td>\n",
              "      <td>1</td>\n",
              "      <td>0</td>\n",
              "      <td>0</td>\n",
              "      <td>0</td>\n",
              "      <td>0</td>\n",
              "      <td>350</td>\n",
              "      <td>21</td>\n",
              "      <td>0</td>\n",
              "      <td>0</td>\n",
              "    </tr>\n",
              "    <tr>\n",
              "      <th>Brong Ahafo</th>\n",
              "      <td>20</td>\n",
              "      <td>1</td>\n",
              "      <td>245</td>\n",
              "      <td>0</td>\n",
              "      <td>2</td>\n",
              "      <td>0</td>\n",
              "      <td>1</td>\n",
              "      <td>0</td>\n",
              "      <td>78</td>\n",
              "      <td>1</td>\n",
              "      <td>0</td>\n",
              "      <td>0</td>\n",
              "    </tr>\n",
              "    <tr>\n",
              "      <th>Central</th>\n",
              "      <td>16</td>\n",
              "      <td>0</td>\n",
              "      <td>226</td>\n",
              "      <td>0</td>\n",
              "      <td>0</td>\n",
              "      <td>0</td>\n",
              "      <td>0</td>\n",
              "      <td>0</td>\n",
              "      <td>55</td>\n",
              "      <td>2</td>\n",
              "      <td>0</td>\n",
              "      <td>0</td>\n",
              "    </tr>\n",
              "    <tr>\n",
              "      <th>Eastern</th>\n",
              "      <td>25</td>\n",
              "      <td>0</td>\n",
              "      <td>275</td>\n",
              "      <td>0</td>\n",
              "      <td>0</td>\n",
              "      <td>0</td>\n",
              "      <td>0</td>\n",
              "      <td>0</td>\n",
              "      <td>83</td>\n",
              "      <td>8</td>\n",
              "      <td>0</td>\n",
              "      <td>2</td>\n",
              "    </tr>\n",
              "    <tr>\n",
              "      <th>Greater Accra</th>\n",
              "      <td>13</td>\n",
              "      <td>0</td>\n",
              "      <td>102</td>\n",
              "      <td>0</td>\n",
              "      <td>0</td>\n",
              "      <td>0</td>\n",
              "      <td>0</td>\n",
              "      <td>2</td>\n",
              "      <td>360</td>\n",
              "      <td>26</td>\n",
              "      <td>1</td>\n",
              "      <td>0</td>\n",
              "    </tr>\n",
              "    <tr>\n",
              "      <th>Northern</th>\n",
              "      <td>28</td>\n",
              "      <td>0</td>\n",
              "      <td>224</td>\n",
              "      <td>0</td>\n",
              "      <td>0</td>\n",
              "      <td>0</td>\n",
              "      <td>0</td>\n",
              "      <td>0</td>\n",
              "      <td>13</td>\n",
              "      <td>2</td>\n",
              "      <td>0</td>\n",
              "      <td>0</td>\n",
              "    </tr>\n",
              "    <tr>\n",
              "      <th>Upper East</th>\n",
              "      <td>23</td>\n",
              "      <td>0</td>\n",
              "      <td>195</td>\n",
              "      <td>0</td>\n",
              "      <td>0</td>\n",
              "      <td>0</td>\n",
              "      <td>0</td>\n",
              "      <td>0</td>\n",
              "      <td>13</td>\n",
              "      <td>1</td>\n",
              "      <td>0</td>\n",
              "      <td>0</td>\n",
              "    </tr>\n",
              "    <tr>\n",
              "      <th>Upper West</th>\n",
              "      <td>12</td>\n",
              "      <td>0</td>\n",
              "      <td>138</td>\n",
              "      <td>2</td>\n",
              "      <td>0</td>\n",
              "      <td>0</td>\n",
              "      <td>0</td>\n",
              "      <td>0</td>\n",
              "      <td>9</td>\n",
              "      <td>0</td>\n",
              "      <td>0</td>\n",
              "      <td>0</td>\n",
              "    </tr>\n",
              "    <tr>\n",
              "      <th>Volta</th>\n",
              "      <td>19</td>\n",
              "      <td>0</td>\n",
              "      <td>301</td>\n",
              "      <td>0</td>\n",
              "      <td>0</td>\n",
              "      <td>0</td>\n",
              "      <td>0</td>\n",
              "      <td>0</td>\n",
              "      <td>72</td>\n",
              "      <td>1</td>\n",
              "      <td>5</td>\n",
              "      <td>0</td>\n",
              "    </tr>\n",
              "    <tr>\n",
              "      <th>Western</th>\n",
              "      <td>30</td>\n",
              "      <td>0</td>\n",
              "      <td>289</td>\n",
              "      <td>1</td>\n",
              "      <td>0</td>\n",
              "      <td>1</td>\n",
              "      <td>0</td>\n",
              "      <td>0</td>\n",
              "      <td>146</td>\n",
              "      <td>29</td>\n",
              "      <td>0</td>\n",
              "      <td>0</td>\n",
              "    </tr>\n",
              "  </tbody>\n",
              "</table>\n",
              "</div>"
            ],
            "text/plain": [
              "Ownership      CHAG  Clinic  Government  Islamic  Maternity Home  Mission  \\\n",
              "Region                                                                      \n",
              "Ashanti          71       0         215        1               0        0   \n",
              "Brong Ahafo      20       1         245        0               2        0   \n",
              "Central          16       0         226        0               0        0   \n",
              "Eastern          25       0         275        0               0        0   \n",
              "Greater Accra    13       0         102        0               0        0   \n",
              "Northern         28       0         224        0               0        0   \n",
              "Upper East       23       0         195        0               0        0   \n",
              "Upper West       12       0         138        2               0        0   \n",
              "Volta            19       0         301        0               0        0   \n",
              "Western          30       0         289        1               0        1   \n",
              "\n",
              "Ownership      Muslim  NGO  Private  Quasi-Government  government  private  \n",
              "Region                                                                      \n",
              "Ashanti             0    0      350                21           0        0  \n",
              "Brong Ahafo         1    0       78                 1           0        0  \n",
              "Central             0    0       55                 2           0        0  \n",
              "Eastern             0    0       83                 8           0        2  \n",
              "Greater Accra       0    2      360                26           1        0  \n",
              "Northern            0    0       13                 2           0        0  \n",
              "Upper East          0    0       13                 1           0        0  \n",
              "Upper West          0    0        9                 0           0        0  \n",
              "Volta               0    0       72                 1           5        0  \n",
              "Western             0    0      146                29           0        0  "
            ]
          },
          "metadata": {
            "tags": []
          },
          "execution_count": 244
        }
      ]
    },
    {
      "metadata": {
        "id": "_9tv2xP0jJLc",
        "colab_type": "text"
      },
      "cell_type": "markdown",
      "source": [
        "#### --- _Generally for Greater Accra there are much more private hospitals hence the very avaerage Ghanaian might nt be able to afford healthcare from private institutions. Since I am going by the assertion that private health facilities cost more than public obes, then prople in Accra will not be able to afford health care in the event that public hospitals get choked. Incase of an emergency an avaerage ghanaian living in Accra won't get attended to in the ER since he/she may not be able to afford the fee_"
      ]
    },
    {
      "metadata": {
        "id": "Gss2uRiJjLLR",
        "colab_type": "code",
        "colab": {}
      },
      "cell_type": "code",
      "source": [
        ""
      ],
      "execution_count": 0,
      "outputs": []
    }
  ]
}